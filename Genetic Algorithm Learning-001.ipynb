{
 "cells": [
  {
   "cell_type": "markdown",
   "metadata": {},
   "source": [
    "# <font color=blue> Learning Genetic Algorithm with Python\n",
    "#### <font color=blue> Reference: https://lethain.com/genetic-algorithms-cool-name-damn-simple/"
   ]
  },
  {
   "cell_type": "code",
   "execution_count": 3,
   "metadata": {},
   "outputs": [],
   "source": [
    "# Problem: Use Genetic Algorithm to solve the following:\n",
    "# Create a list of N numbers that equal X when summed together\n",
    "# If N = 5, X = 200 then below are some correct answers:\n",
    "# eg1. [40, 40, 40, 40, 40]\n",
    "# eg2. [50, 50, 50, 25, 25]\n",
    "# eg3. [200, 0, 0, 0, 0]\n",
    "from random import random, randint"
   ]
  },
  {
   "cell_type": "code",
   "execution_count": 4,
   "metadata": {},
   "outputs": [],
   "source": [
    "def individual(length, min, max):\n",
    "    #Create a member of the population\n",
    "    return [ randint(min,max) for x in range(length) ]"
   ]
  },
  {
   "cell_type": "code",
   "execution_count": 18,
   "metadata": {},
   "outputs": [
    {
     "data": {
      "text/plain": [
       "[10, 32, 74, 13, 12]"
      ]
     },
     "execution_count": 18,
     "metadata": {},
     "output_type": "execute_result"
    }
   ],
   "source": [
    "individual(5, 0, 100)    #creates 5 individuals with random value range 0-100"
   ]
  },
  {
   "cell_type": "code",
   "execution_count": 19,
   "metadata": {},
   "outputs": [
    {
     "data": {
      "text/plain": [
       "[5, 90, 76, 54, 3]"
      ]
     },
     "execution_count": 19,
     "metadata": {},
     "output_type": "execute_result"
    }
   ],
   "source": [
    "individual(5, 0, 100)"
   ]
  },
  {
   "cell_type": "code",
   "execution_count": 20,
   "metadata": {},
   "outputs": [
    {
     "data": {
      "text/plain": [
       "[[21, 38, 54, 6, 3], [97, 46, 95, 91, 6], [34, 35, 88, 15, 26]]"
      ]
     },
     "execution_count": 20,
     "metadata": {},
     "output_type": "execute_result"
    }
   ],
   "source": [
    "def population(count, length, min, max):\n",
    "    #Create a number of individuals\n",
    "    return [ individual(length, min, max) for x in range(count) ]\n",
    "\n",
    "population(3, 5, 0, 100)  #Creates a population of 3; each with 5 values bwt 0-100"
   ]
  },
  {
   "cell_type": "code",
   "execution_count": 21,
   "metadata": {},
   "outputs": [],
   "source": [
    "from operator import add\n",
    "def fitness(individual, target):\n",
    "    #Determine the fitness of an individual. Lower is better\n",
    "    return abs(target-sum(individual))"
   ]
  },
  {
   "cell_type": "code",
   "execution_count": 22,
   "metadata": {},
   "outputs": [
    {
     "data": {
      "text/plain": [
       "[8, 83, 38, 16, 94]"
      ]
     },
     "execution_count": 22,
     "metadata": {},
     "output_type": "execute_result"
    }
   ],
   "source": [
    "x = individual(5, 0, 100)\n",
    "x"
   ]
  },
  {
   "cell_type": "code",
   "execution_count": 23,
   "metadata": {},
   "outputs": [
    {
     "data": {
      "text/plain": [
       "39"
      ]
     },
     "execution_count": 23,
     "metadata": {},
     "output_type": "execute_result"
    }
   ],
   "source": [
    "fitness(x, 200)  # The nearer sum is to 200, the fitter is the solution"
   ]
  },
  {
   "cell_type": "code",
   "execution_count": 24,
   "metadata": {},
   "outputs": [
    {
     "data": {
      "text/plain": [
       "128.0"
      ]
     },
     "execution_count": 24,
     "metadata": {},
     "output_type": "execute_result"
    }
   ],
   "source": [
    "def grade(pop, target):\n",
    "    #find avg fitness for a population\n",
    "    return ( sum(fitness(x, target) for x in pop) / (len(pop)*1.0))\n",
    "\n",
    "x = population(3, 5, 0, 100)\n",
    "grade(x, 200)"
   ]
  },
  {
   "cell_type": "code",
   "execution_count": 25,
   "metadata": {},
   "outputs": [
    {
     "data": {
      "text/plain": [
       "[1, 2, 3, 40, 50, 60]"
      ]
     },
     "execution_count": 25,
     "metadata": {},
     "output_type": "execute_result"
    }
   ],
   "source": [
    "# At this point, we side track to show breeding example.\n",
    "# For simplicity, we take first half from father and last half from mother to breed\n",
    "father = [1,2,3,4,5,6]\n",
    "mother = [10,20,30,40,50,60]\n",
    "child = father[:3] + mother[3:]\n",
    "child"
   ]
  },
  {
   "cell_type": "code",
   "execution_count": 29,
   "metadata": {},
   "outputs": [
    {
     "data": {
      "text/plain": [
       "[(70, [15, 2, 91, 22, 40])]"
      ]
     },
     "execution_count": 29,
     "metadata": {},
     "output_type": "execute_result"
    }
   ],
   "source": [
    "# function for mutation. Randomness is to avoid stuck at local maxima\n",
    "\n",
    "# chance_to_mutate = 0.01\n",
    "# for i in population:\n",
    "#     if chance_to_mutate > random():\n",
    "#         place_to_modify = randint(0, len(i))\n",
    "#         i[place_to_modify] = randint(min(i),max(i))\n",
    "x = individual(5, 0, 100)\n",
    "graded = [ (fitness(x, 100), x) ]\n",
    "graded"
   ]
  },
  {
   "cell_type": "code",
   "execution_count": 30,
   "metadata": {},
   "outputs": [
    {
     "data": {
      "text/plain": [
       "[[15, 2, 91, 22, 40]]"
      ]
     },
     "execution_count": 30,
     "metadata": {},
     "output_type": "execute_result"
    }
   ],
   "source": [
    "graded = [ x[1] for x in sorted(graded) ]\n",
    "graded"
   ]
  },
  {
   "cell_type": "code",
   "execution_count": 58,
   "metadata": {},
   "outputs": [
    {
     "data": {
      "text/plain": [
       "[(87, [76, 41, 56, 94, 17]),\n",
       " (69, [98, 100, 63, 93, 86]),\n",
       " (81, [84, 79, 66, 26, 35])]"
      ]
     },
     "execution_count": 58,
     "metadata": {},
     "output_type": "execute_result"
    }
   ],
   "source": [
    "graded = [ (fitness(x, target), x) for x in population(3,5,0,100) ]\n",
    "graded"
   ]
  },
  {
   "cell_type": "code",
   "execution_count": 62,
   "metadata": {},
   "outputs": [
    {
     "data": {
      "text/plain": [
       "[[98, 100, 63, 93, 86], [84, 79, 66, 26, 35], [76, 41, 56, 94, 17]]"
      ]
     },
     "execution_count": 62,
     "metadata": {},
     "output_type": "execute_result"
    }
   ],
   "source": [
    "[ x[1] for x in sorted(graded) ]   #sort graded by avg fitness and then return just column 2 (x[1])\n"
   ]
  },
  {
   "cell_type": "code",
   "execution_count": 49,
   "metadata": {},
   "outputs": [
    {
     "data": {
      "text/plain": [
       "[210.33333333333334]"
      ]
     },
     "execution_count": 49,
     "metadata": {},
     "output_type": "execute_result"
    }
   ],
   "source": [
    "p = population(3, 5, 0, 100)\n",
    "p\n",
    "fitness_history = [grade(p, 100),] # the last comma is to signify that output is an array\n",
    "fitness_history"
   ]
  },
  {
   "cell_type": "code",
   "execution_count": 64,
   "metadata": {},
   "outputs": [
    {
     "name": "stdout",
     "output_type": "stream",
     "text": [
      "3\n",
      "[(87, [76, 41, 56, 94, 17]), (69, [98, 100, 63, 93, 86])]\n"
     ]
    }
   ],
   "source": [
    "print(len(graded))  #check number of individuals in the population\n",
    "print(graded[:2])"
   ]
  },
  {
   "cell_type": "code",
   "execution_count": 38,
   "metadata": {},
   "outputs": [],
   "source": [
    "# Now to the Evolution code !\n",
    "def evolve(pop, target, retain=0.2, random_select=0.05, mutate=0.01):\n",
    "    # add fitness column to population X\n",
    "    graded = [ (fitness(x, target), x) for x in pop ]\n",
    "    # sort population x by fitness and return only population (column 1)\n",
    "    # Note: the lower the fitness value, the \"stronger\" in this case\n",
    "    graded = [ x[1] for x in sorted(graded) ]\n",
    "    retain_length = int(len(graded)*retain)  #retain top 20% of population\n",
    "    parents = graded[:retain_length]         #to become parents\n",
    "    \n",
    "    #among the bottom 80% individuals, randomly pick 5% to be included as parents\n",
    "    for individual in graded[retain_length:]:\n",
    "        if random_select > random():\n",
    "            parents.append(individual)\n",
    "    \n",
    "    #among the chosen parents, randomly pick 1% to mutate\n",
    "    for individual in parents:\n",
    "        if mutate > random():\n",
    "            pos_to_mutate = randint(0, len(individual)-1) # Random: 0 - 4 in this example\n",
    "            # this mutation is not ideal, because it restricts the range of possible values\n",
    "            # but the function is unaware of the min/max values used to create the individuals\n",
    "            individual[pos_to_mutate] = randint( min(individual), max(individual))\n",
    "    \n",
    "    # crossover parents to create the children\n",
    "    parents_length = len(parents)  #check parents count\n",
    "    desired_length = len(pop) - parents_length   # Calculate # of children to breed to maintain the same population\n",
    "    children = []\n",
    "    while len(children) < desired_length:\n",
    "        male = randint(0, parents_length-1)\n",
    "        female = randint(0, parents_length-1)\n",
    "        if male != female:\n",
    "            male = parents[male]\n",
    "            female = parents[female]\n",
    "            half = int(len(male) / 2)\n",
    "            child = male[:half] + female[half:]\n",
    "            children.append(child)\n",
    "    parents.extend(children)\n",
    "    return parents"
   ]
  },
  {
   "cell_type": "code",
   "execution_count": 45,
   "metadata": {},
   "outputs": [
    {
     "data": {
      "text/plain": [
       "[[7, 93, 93, 18, 56],\n",
       " [81, 51, 78, 47, 88],\n",
       " [57, 61, 97, 6, 34],\n",
       " [25, 52, 22, 14, 72],\n",
       " [96, 30, 4, 54, 70],\n",
       " [83, 1, 52, 24, 11],\n",
       " [83, 55, 48, 0, 57],\n",
       " [15, 29, 49, 56, 1],\n",
       " [20, 11, 57, 42, 65],\n",
       " [36, 66, 76, 2, 49],\n",
       " [45, 98, 33, 94, 99],\n",
       " [96, 40, 58, 73, 71],\n",
       " [21, 1, 6, 35, 69],\n",
       " [10, 37, 39, 4, 16],\n",
       " [66, 100, 3, 68, 86],\n",
       " [41, 88, 69, 27, 22],\n",
       " [64, 18, 84, 22, 68],\n",
       " [55, 19, 20, 4, 97],\n",
       " [91, 15, 56, 61, 90],\n",
       " [65, 48, 12, 24, 91],\n",
       " [97, 51, 92, 48, 83],\n",
       " [77, 71, 85, 13, 86],\n",
       " [34, 77, 39, 99, 3],\n",
       " [48, 65, 27, 5, 89],\n",
       " [52, 82, 22, 30, 32],\n",
       " [55, 32, 81, 82, 56],\n",
       " [4, 20, 14, 87, 42],\n",
       " [66, 64, 2, 19, 6],\n",
       " [76, 66, 73, 74, 81],\n",
       " [5, 17, 92, 92, 92],\n",
       " [70, 3, 1, 20, 76],\n",
       " [68, 78, 19, 15, 28],\n",
       " [15, 41, 35, 34, 18],\n",
       " [64, 67, 59, 43, 80],\n",
       " [85, 43, 82, 100, 30],\n",
       " [69, 92, 40, 88, 86],\n",
       " [72, 14, 93, 88, 23],\n",
       " [36, 11, 11, 83, 27],\n",
       " [95, 5, 34, 10, 61],\n",
       " [57, 34, 89, 42, 45],\n",
       " [91, 18, 2, 33, 60],\n",
       " [19, 75, 20, 40, 95],\n",
       " [85, 71, 45, 100, 51],\n",
       " [27, 91, 8, 20, 29],\n",
       " [41, 69, 23, 17, 57],\n",
       " [1, 3, 64, 40, 16],\n",
       " [94, 40, 79, 56, 63],\n",
       " [14, 55, 86, 48, 86],\n",
       " [95, 27, 92, 47, 27],\n",
       " [88, 3, 9, 9, 96],\n",
       " [65, 51, 58, 76, 19],\n",
       " [65, 57, 55, 98, 96],\n",
       " [88, 29, 96, 66, 54],\n",
       " [81, 52, 35, 54, 64],\n",
       " [43, 96, 39, 73, 91],\n",
       " [42, 48, 35, 28, 0],\n",
       " [83, 94, 78, 84, 62],\n",
       " [34, 22, 91, 100, 31],\n",
       " [3, 27, 22, 55, 80],\n",
       " [26, 17, 37, 81, 3],\n",
       " [44, 35, 14, 50, 83],\n",
       " [70, 45, 30, 60, 15],\n",
       " [54, 23, 44, 67, 65],\n",
       " [89, 10, 33, 55, 2],\n",
       " [25, 77, 42, 47, 2],\n",
       " [31, 3, 44, 5, 78],\n",
       " [71, 19, 89, 72, 67],\n",
       " [92, 62, 92, 74, 10],\n",
       " [95, 81, 31, 24, 14],\n",
       " [17, 81, 76, 23, 40],\n",
       " [17, 97, 95, 25, 50],\n",
       " [66, 92, 59, 38, 37],\n",
       " [67, 46, 10, 47, 68],\n",
       " [13, 36, 55, 29, 81],\n",
       " [87, 23, 79, 22, 16],\n",
       " [93, 85, 70, 75, 22],\n",
       " [50, 23, 20, 8, 53],\n",
       " [20, 24, 44, 28, 85],\n",
       " [14, 52, 72, 15, 9],\n",
       " [43, 1, 76, 55, 1],\n",
       " [90, 75, 15, 66, 74],\n",
       " [52, 46, 96, 50, 70],\n",
       " [26, 17, 26, 99, 90],\n",
       " [90, 43, 29, 51, 47],\n",
       " [32, 8, 17, 70, 31],\n",
       " [90, 24, 27, 15, 88],\n",
       " [90, 18, 78, 94, 49],\n",
       " [97, 17, 73, 37, 31],\n",
       " [14, 6, 78, 38, 6],\n",
       " [57, 42, 17, 68, 8],\n",
       " [50, 34, 20, 54, 26],\n",
       " [61, 45, 72, 6, 100],\n",
       " [99, 79, 26, 59, 40],\n",
       " [36, 45, 48, 19, 23],\n",
       " [22, 100, 17, 43, 18],\n",
       " [29, 72, 84, 31, 33],\n",
       " [74, 50, 85, 14, 34],\n",
       " [83, 73, 90, 41, 36],\n",
       " [59, 40, 97, 58, 50],\n",
       " [52, 61, 83, 44, 94]]"
      ]
     },
     "execution_count": 45,
     "metadata": {},
     "output_type": "execute_result"
    }
   ],
   "source": [
    "target = 371\n",
    "p_count = 100\n",
    "i_length = 5\n",
    "i_min = 0\n",
    "i_max = 100\n",
    "p = population(p_count, i_length, i_min, i_max)\n",
    "p"
   ]
  },
  {
   "cell_type": "code",
   "execution_count": 48,
   "metadata": {},
   "outputs": [
    {
     "data": {
      "text/plain": [
       "[0.0,\n",
       " 0.0,\n",
       " 0.0,\n",
       " 0.0,\n",
       " 0.0,\n",
       " 0.0,\n",
       " 0.57,\n",
       " 0.38,\n",
       " 0.0,\n",
       " 0.0,\n",
       " 0.0,\n",
       " 0.0,\n",
       " 0.0,\n",
       " 0.0,\n",
       " 0.0,\n",
       " 0.28,\n",
       " 0.4,\n",
       " 0.0,\n",
       " 0.0,\n",
       " 0.0,\n",
       " 0.0,\n",
       " 2.81,\n",
       " 0.0,\n",
       " 0.76,\n",
       " 0.84,\n",
       " 0.8,\n",
       " 0.0,\n",
       " 0.0,\n",
       " 0.0,\n",
       " 0.0,\n",
       " 0.0,\n",
       " 0.0,\n",
       " 0.1,\n",
       " 0.0,\n",
       " 0.0,\n",
       " 0.0,\n",
       " 0.0,\n",
       " 0.0,\n",
       " 1.68,\n",
       " 1.5,\n",
       " 0.0,\n",
       " 0.0,\n",
       " 0.0,\n",
       " 0.0,\n",
       " 0.0,\n",
       " 0.0,\n",
       " 0.0,\n",
       " 0.0,\n",
       " 0.0,\n",
       " 0.0,\n",
       " 0.0,\n",
       " 0.0,\n",
       " 1.3,\n",
       " 0.0,\n",
       " 0.0,\n",
       " 0.0,\n",
       " 0.0,\n",
       " 0.0,\n",
       " 0.0,\n",
       " 0.0,\n",
       " 0.0,\n",
       " 0.0,\n",
       " 0.0,\n",
       " 0.0,\n",
       " 0.0,\n",
       " 0.0,\n",
       " 0.0,\n",
       " 0.0,\n",
       " 0.0,\n",
       " 0.1,\n",
       " 2.31,\n",
       " 0.0,\n",
       " 0.0,\n",
       " 0.0,\n",
       " 0.0,\n",
       " 0.0,\n",
       " 0.0,\n",
       " 0.0,\n",
       " 0.0,\n",
       " 0.0,\n",
       " 1.98,\n",
       " 0.0,\n",
       " 2.76,\n",
       " 0.0,\n",
       " 0.0,\n",
       " 0.0,\n",
       " 0.0,\n",
       " 0.0,\n",
       " 0.0,\n",
       " 0.0,\n",
       " 0.9,\n",
       " 0.0,\n",
       " 0.0,\n",
       " 0.5,\n",
       " 0.3,\n",
       " 0.0,\n",
       " 2.69,\n",
       " 0.0,\n",
       " 0.0,\n",
       " 0.0,\n",
       " 1.6]"
      ]
     },
     "execution_count": 48,
     "metadata": {},
     "output_type": "execute_result"
    }
   ],
   "source": [
    "fitness_history = [grade(p, target),]\n",
    "\n",
    "# Perform 100 Evolution\n",
    "for i in range(100):\n",
    "    p = evolve(p, target)\n",
    "    fitness_history.append(grade(p, target))\n",
    "\n",
    "fitness_history\n",
    "# for datum in fitness_history:\n",
    "#     print(datum)"
   ]
  },
  {
   "cell_type": "code",
   "execution_count": null,
   "metadata": {},
   "outputs": [],
   "source": []
  }
 ],
 "metadata": {
  "kernelspec": {
   "display_name": "Python 3",
   "language": "python",
   "name": "python3"
  },
  "language_info": {
   "codemirror_mode": {
    "name": "ipython",
    "version": 3
   },
   "file_extension": ".py",
   "mimetype": "text/x-python",
   "name": "python",
   "nbconvert_exporter": "python",
   "pygments_lexer": "ipython3",
   "version": "3.6.4"
  }
 },
 "nbformat": 4,
 "nbformat_minor": 2
}
