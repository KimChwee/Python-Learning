{
 "cells": [
  {
   "cell_type": "markdown",
   "metadata": {},
   "source": [
    "# <font color=blue> Learning Genetic Algorithm with Python\n",
    "#### <font color=blue> Reference: https://lethain.com/genetic-algorithms-cool-name-damn-simple/"
   ]
  },
  {
   "cell_type": "code",
   "execution_count": 1,
   "metadata": {},
   "outputs": [],
   "source": [
    "# Problem: Use Genetic Algorithm to solve the following:\n",
    "# Create a list of N numbers that equal X when summed together\n",
    "# If N = 5, X = 200 then below are some correct answers:\n",
    "# eg1. [40, 40, 40, 40, 40]\n",
    "# eg2. [50, 50, 50, 25, 25]\n",
    "# eg3. [200, 0, 0, 0, 0]\n",
    "from random import random, randint"
   ]
  },
  {
   "cell_type": "code",
   "execution_count": 2,
   "metadata": {},
   "outputs": [],
   "source": [
    "def individual(length, min, max):\n",
    "    #Create a member of the population\n",
    "    return [ randint(min,max) for x in range(length) ]"
   ]
  },
  {
   "cell_type": "code",
   "execution_count": 3,
   "metadata": {},
   "outputs": [
    {
     "data": {
      "text/plain": [
       "[31, 33, 50, 89, 7]"
      ]
     },
     "execution_count": 3,
     "metadata": {},
     "output_type": "execute_result"
    }
   ],
   "source": [
    "individual(5, 0, 100)    #creates 5 individuals with random value range 0-100"
   ]
  },
  {
   "cell_type": "code",
   "execution_count": 4,
   "metadata": {},
   "outputs": [
    {
     "data": {
      "text/plain": [
       "[99, 37, 15, 21, 89]"
      ]
     },
     "execution_count": 4,
     "metadata": {},
     "output_type": "execute_result"
    }
   ],
   "source": [
    "individual(5, 0, 100)"
   ]
  },
  {
   "cell_type": "code",
   "execution_count": 5,
   "metadata": {},
   "outputs": [
    {
     "data": {
      "text/plain": [
       "[[90, 78, 97, 92, 41], [0, 62, 98, 51, 62], [39, 27, 70, 40, 15]]"
      ]
     },
     "execution_count": 5,
     "metadata": {},
     "output_type": "execute_result"
    }
   ],
   "source": [
    "def population(count, length, min, max):\n",
    "    #Create a number of individuals\n",
    "    return [ individual(length, min, max) for x in range(count) ]\n",
    "\n",
    "population(3, 5, 0, 100)  #Creates a population of 3; each with 5 values bwt 0-100"
   ]
  },
  {
   "cell_type": "code",
   "execution_count": 6,
   "metadata": {},
   "outputs": [],
   "source": [
    "from operator import add\n",
    "def fitness(individual, target):\n",
    "    #Determine the fitness of an individual. Lower is better\n",
    "    return abs(target-sum(individual))"
   ]
  },
  {
   "cell_type": "code",
   "execution_count": 7,
   "metadata": {},
   "outputs": [
    {
     "data": {
      "text/plain": [
       "[19, 100, 98, 42, 36]"
      ]
     },
     "execution_count": 7,
     "metadata": {},
     "output_type": "execute_result"
    }
   ],
   "source": [
    "x = individual(5, 0, 100)\n",
    "x"
   ]
  },
  {
   "cell_type": "code",
   "execution_count": 8,
   "metadata": {},
   "outputs": [
    {
     "data": {
      "text/plain": [
       "95"
      ]
     },
     "execution_count": 8,
     "metadata": {},
     "output_type": "execute_result"
    }
   ],
   "source": [
    "fitness(x, 200)  # The nearer sum is to 200, the fitter is the solution"
   ]
  },
  {
   "cell_type": "code",
   "execution_count": 9,
   "metadata": {},
   "outputs": [
    {
     "data": {
      "text/plain": [
       "78.66666666666667"
      ]
     },
     "execution_count": 9,
     "metadata": {},
     "output_type": "execute_result"
    }
   ],
   "source": [
    "def grade(pop, target):\n",
    "    #find avg fitness for a population\n",
    "    return ( sum(fitness(x, target) for x in pop) / (len(pop)*1.0))\n",
    "\n",
    "x = population(3, 5, 0, 100)\n",
    "grade(x, 200)"
   ]
  },
  {
   "cell_type": "code",
   "execution_count": 10,
   "metadata": {},
   "outputs": [
    {
     "data": {
      "text/plain": [
       "[1, 2, 3, 40, 50, 60]"
      ]
     },
     "execution_count": 10,
     "metadata": {},
     "output_type": "execute_result"
    }
   ],
   "source": [
    "# At this point, we side track to show breeding example.\n",
    "# For simplicity, we take first half from father and last half from mother to breed\n",
    "father = [1,2,3,4,5,6]\n",
    "mother = [10,20,30,40,50,60]\n",
    "child = father[:3] + mother[3:]\n",
    "child"
   ]
  },
  {
   "cell_type": "code",
   "execution_count": 17,
   "metadata": {},
   "outputs": [
    {
     "data": {
      "text/plain": [
       "[(235, [59, 90, 62, 59, 65])]"
      ]
     },
     "execution_count": 17,
     "metadata": {},
     "output_type": "execute_result"
    }
   ],
   "source": [
    "# function for mutation. Randomness is to avoid stuck at local maxima\n",
    "\n",
    "# chance_to_mutate = 0.01\n",
    "# for i in population:\n",
    "#     if chance_to_mutate > random():\n",
    "#         place_to_modify = randint(0, len(i))\n",
    "#         i[place_to_modify] = randint(min(i),max(i))\n",
    "x = individual(5, 0, 100)\n",
    "graded = [ (fitness(x, 100), x) ]\n",
    "graded"
   ]
  },
  {
   "cell_type": "code",
   "execution_count": 12,
   "metadata": {},
   "outputs": [
    {
     "data": {
      "text/plain": [
       "[[39, 80, 1, 65, 100]]"
      ]
     },
     "execution_count": 12,
     "metadata": {},
     "output_type": "execute_result"
    }
   ],
   "source": [
    "graded = [ x[1] for x in sorted(graded) ]\n",
    "graded"
   ]
  },
  {
   "cell_type": "code",
   "execution_count": 13,
   "metadata": {},
   "outputs": [
    {
     "ename": "NameError",
     "evalue": "name 'target' is not defined",
     "output_type": "error",
     "traceback": [
      "\u001b[1;31m---------------------------------------------------------------------------\u001b[0m",
      "\u001b[1;31mNameError\u001b[0m                                 Traceback (most recent call last)",
      "\u001b[1;32m<ipython-input-13-a3ca9e0eda8d>\u001b[0m in \u001b[0;36m<module>\u001b[1;34m\u001b[0m\n\u001b[1;32m----> 1\u001b[1;33m \u001b[0mgraded\u001b[0m \u001b[1;33m=\u001b[0m \u001b[1;33m[\u001b[0m \u001b[1;33m(\u001b[0m\u001b[0mfitness\u001b[0m\u001b[1;33m(\u001b[0m\u001b[0mx\u001b[0m\u001b[1;33m,\u001b[0m \u001b[0mtarget\u001b[0m\u001b[1;33m)\u001b[0m\u001b[1;33m,\u001b[0m \u001b[0mx\u001b[0m\u001b[1;33m)\u001b[0m \u001b[1;32mfor\u001b[0m \u001b[0mx\u001b[0m \u001b[1;32min\u001b[0m \u001b[0mpopulation\u001b[0m\u001b[1;33m(\u001b[0m\u001b[1;36m3\u001b[0m\u001b[1;33m,\u001b[0m\u001b[1;36m5\u001b[0m\u001b[1;33m,\u001b[0m\u001b[1;36m0\u001b[0m\u001b[1;33m,\u001b[0m\u001b[1;36m100\u001b[0m\u001b[1;33m)\u001b[0m \u001b[1;33m]\u001b[0m\u001b[1;33m\u001b[0m\u001b[0m\n\u001b[0m\u001b[0;32m      2\u001b[0m \u001b[0mgraded\u001b[0m\u001b[1;33m\u001b[0m\u001b[0m\n",
      "\u001b[1;32m<ipython-input-13-a3ca9e0eda8d>\u001b[0m in \u001b[0;36m<listcomp>\u001b[1;34m(.0)\u001b[0m\n\u001b[1;32m----> 1\u001b[1;33m \u001b[0mgraded\u001b[0m \u001b[1;33m=\u001b[0m \u001b[1;33m[\u001b[0m \u001b[1;33m(\u001b[0m\u001b[0mfitness\u001b[0m\u001b[1;33m(\u001b[0m\u001b[0mx\u001b[0m\u001b[1;33m,\u001b[0m \u001b[0mtarget\u001b[0m\u001b[1;33m)\u001b[0m\u001b[1;33m,\u001b[0m \u001b[0mx\u001b[0m\u001b[1;33m)\u001b[0m \u001b[1;32mfor\u001b[0m \u001b[0mx\u001b[0m \u001b[1;32min\u001b[0m \u001b[0mpopulation\u001b[0m\u001b[1;33m(\u001b[0m\u001b[1;36m3\u001b[0m\u001b[1;33m,\u001b[0m\u001b[1;36m5\u001b[0m\u001b[1;33m,\u001b[0m\u001b[1;36m0\u001b[0m\u001b[1;33m,\u001b[0m\u001b[1;36m100\u001b[0m\u001b[1;33m)\u001b[0m \u001b[1;33m]\u001b[0m\u001b[1;33m\u001b[0m\u001b[0m\n\u001b[0m\u001b[0;32m      2\u001b[0m \u001b[0mgraded\u001b[0m\u001b[1;33m\u001b[0m\u001b[0m\n",
      "\u001b[1;31mNameError\u001b[0m: name 'target' is not defined"
     ]
    }
   ],
   "source": [
    "graded = [ (fitness(x, target), x) for x in population(3,5,0,100) ]\n",
    "graded"
   ]
  },
  {
   "cell_type": "code",
   "execution_count": 14,
   "metadata": {},
   "outputs": [
    {
     "data": {
      "text/plain": [
       "[80]"
      ]
     },
     "execution_count": 14,
     "metadata": {},
     "output_type": "execute_result"
    }
   ],
   "source": [
    "[ x[1] for x in sorted(graded) ]   #sort graded by avg fitness and then return just column 2 (x[1])\n"
   ]
  },
  {
   "cell_type": "code",
   "execution_count": 15,
   "metadata": {},
   "outputs": [
    {
     "data": {
      "text/plain": [
       "[152.0]"
      ]
     },
     "execution_count": 15,
     "metadata": {},
     "output_type": "execute_result"
    }
   ],
   "source": [
    "p = population(3, 5, 0, 100)\n",
    "p\n",
    "fitness_history = [grade(p, 100),] # the last comma is to signify that output is an array\n",
    "fitness_history"
   ]
  },
  {
   "cell_type": "code",
   "execution_count": 16,
   "metadata": {},
   "outputs": [
    {
     "name": "stdout",
     "output_type": "stream",
     "text": [
      "1\n",
      "[[39, 80, 1, 65, 100]]\n"
     ]
    }
   ],
   "source": [
    "print(len(graded))  #check number of individuals in the population\n",
    "print(graded[:2])"
   ]
  },
  {
   "cell_type": "code",
   "execution_count": 21,
   "metadata": {},
   "outputs": [],
   "source": [
    "# Now to the Evolution code !\n",
    "def evolve(pop, target, retain=0.2, random_select=0.05, mutate=0.01):\n",
    "    # add fitness column to population X\n",
    "    graded = [ (fitness(x, target), x) for x in pop ]\n",
    "    # sort population x by fitness and return only population (column 1)\n",
    "    # Note: the lower the fitness value, the \"stronger\" in this case\n",
    "    graded = [ x[1] for x in sorted(graded) ]\n",
    "    retain_length = int(len(graded)*retain)  #retain top 20% of population\n",
    "    parents = graded[:retain_length]         #to become parents\n",
    "    \n",
    "    #among the bottom 80% individuals, randomly pick 5% to be included as parents\n",
    "    for individual in graded[retain_length:]:\n",
    "        if random_select > random():\n",
    "            parents.append(individual)\n",
    "    \n",
    "    #among the chosen parents, randomly pick 1% to mutate\n",
    "    for individual in parents:\n",
    "        if mutate > random():\n",
    "            pos_to_mutate = randint(0, len(individual)-1) # Random: 0 - 4 in this example\n",
    "            # this mutation is not ideal, because it restricts the range of possible values\n",
    "            # but the function is unaware of the min/max values used to create the individuals\n",
    "            individual[pos_to_mutate] = randint( min(individual), max(individual))\n",
    "    \n",
    "    # crossover parents to create the children\n",
    "    parents_length = len(parents)  #check parents count\n",
    "    desired_length = len(pop) - parents_length   # Calculate # of children to breed to maintain the same population\n",
    "    children = []\n",
    "    while len(children) < desired_length:\n",
    "        male = randint(0, parents_length-1)\n",
    "        female = randint(0, parents_length-1)\n",
    "        if male != female:\n",
    "            male = parents[male]\n",
    "            female = parents[female]\n",
    "            half = int(len(male) / 2)\n",
    "            child = male[:half] + female[half:]\n",
    "            children.append(child)\n",
    "    parents.extend(children)\n",
    "    return parents"
   ]
  },
  {
   "cell_type": "code",
   "execution_count": 22,
   "metadata": {},
   "outputs": [
    {
     "data": {
      "text/plain": [
       "[[47, 47, 64, 50, 36],\n",
       " [59, 99, 37, 89, 34],\n",
       " [84, 9, 28, 14, 39],\n",
       " [77, 50, 66, 19, 88],\n",
       " [70, 46, 50, 69, 62],\n",
       " [33, 19, 87, 68, 87],\n",
       " [86, 58, 72, 44, 15],\n",
       " [25, 30, 53, 12, 70],\n",
       " [66, 17, 40, 60, 10],\n",
       " [89, 61, 66, 9, 3],\n",
       " [9, 23, 8, 99, 98],\n",
       " [81, 89, 16, 39, 58],\n",
       " [82, 73, 7, 95, 57],\n",
       " [84, 84, 66, 87, 7],\n",
       " [81, 81, 35, 88, 40],\n",
       " [92, 57, 40, 53, 90],\n",
       " [85, 60, 8, 96, 46],\n",
       " [18, 84, 19, 87, 66],\n",
       " [86, 89, 16, 67, 9],\n",
       " [38, 7, 39, 28, 56],\n",
       " [67, 23, 11, 97, 80],\n",
       " [7, 9, 1, 69, 15],\n",
       " [38, 57, 12, 92, 82],\n",
       " [51, 44, 25, 2, 40],\n",
       " [41, 97, 58, 17, 81],\n",
       " [7, 28, 44, 79, 0],\n",
       " [16, 75, 39, 74, 100],\n",
       " [52, 2, 15, 19, 8],\n",
       " [88, 35, 6, 9, 87],\n",
       " [30, 58, 92, 12, 80],\n",
       " [63, 40, 67, 1, 60],\n",
       " [6, 68, 5, 48, 59],\n",
       " [78, 20, 64, 34, 57],\n",
       " [41, 10, 89, 75, 52],\n",
       " [3, 75, 79, 10, 56],\n",
       " [20, 64, 74, 56, 80],\n",
       " [96, 53, 53, 28, 36],\n",
       " [5, 12, 12, 76, 74],\n",
       " [18, 48, 88, 60, 30],\n",
       " [20, 13, 49, 61, 22],\n",
       " [8, 58, 54, 38, 71],\n",
       " [47, 52, 94, 78, 7],\n",
       " [19, 63, 65, 100, 24],\n",
       " [48, 70, 49, 20, 61],\n",
       " [9, 23, 100, 93, 64],\n",
       " [6, 53, 94, 4, 43],\n",
       " [88, 31, 46, 62, 62],\n",
       " [72, 70, 27, 95, 55],\n",
       " [27, 12, 93, 19, 30],\n",
       " [67, 16, 33, 27, 42],\n",
       " [95, 92, 33, 77, 91],\n",
       " [38, 3, 10, 16, 29],\n",
       " [23, 65, 51, 70, 80],\n",
       " [33, 79, 28, 6, 36],\n",
       " [95, 69, 32, 19, 81],\n",
       " [14, 15, 18, 35, 30],\n",
       " [38, 42, 45, 32, 7],\n",
       " [78, 97, 73, 11, 25],\n",
       " [76, 89, 82, 67, 14],\n",
       " [5, 74, 8, 48, 34],\n",
       " [60, 79, 84, 16, 15],\n",
       " [41, 100, 82, 72, 18],\n",
       " [83, 58, 21, 71, 8],\n",
       " [97, 72, 77, 29, 14],\n",
       " [74, 80, 0, 96, 1],\n",
       " [57, 39, 97, 93, 26],\n",
       " [55, 40, 89, 3, 78],\n",
       " [31, 71, 12, 50, 25],\n",
       " [39, 15, 66, 39, 66],\n",
       " [27, 3, 100, 11, 55],\n",
       " [52, 58, 98, 6, 35],\n",
       " [45, 19, 27, 66, 60],\n",
       " [54, 67, 29, 99, 80],\n",
       " [8, 0, 17, 78, 21],\n",
       " [67, 91, 64, 86, 74],\n",
       " [6, 89, 12, 27, 80],\n",
       " [88, 12, 43, 13, 61],\n",
       " [72, 85, 39, 21, 87],\n",
       " [86, 32, 92, 32, 17],\n",
       " [97, 43, 67, 77, 23],\n",
       " [61, 74, 72, 92, 15],\n",
       " [64, 92, 59, 85, 48],\n",
       " [55, 15, 67, 68, 7],\n",
       " [19, 72, 82, 36, 16],\n",
       " [68, 21, 82, 95, 31],\n",
       " [87, 76, 84, 52, 47],\n",
       " [47, 7, 17, 62, 28],\n",
       " [62, 43, 90, 12, 44],\n",
       " [70, 65, 71, 15, 68],\n",
       " [13, 13, 70, 61, 70],\n",
       " [4, 77, 68, 84, 63],\n",
       " [34, 5, 58, 10, 14],\n",
       " [100, 94, 71, 38, 100],\n",
       " [100, 39, 83, 49, 86],\n",
       " [0, 86, 87, 76, 19],\n",
       " [28, 55, 10, 85, 49],\n",
       " [42, 53, 92, 16, 3],\n",
       " [74, 5, 97, 25, 35],\n",
       " [43, 61, 96, 39, 92],\n",
       " [56, 95, 59, 16, 0]]"
      ]
     },
     "execution_count": 22,
     "metadata": {},
     "output_type": "execute_result"
    }
   ],
   "source": [
    "target = 371\n",
    "p_count = 100\n",
    "i_length = 5\n",
    "i_min = 0\n",
    "i_max = 100\n",
    "p = population(p_count, i_length, i_min, i_max)\n",
    "p"
   ]
  },
  {
   "cell_type": "code",
   "execution_count": 23,
   "metadata": {},
   "outputs": [
    {
     "data": {
      "text/plain": [
       "[[67, 91, 39, 74, 100],\n",
       " [67, 91, 39, 74, 100],\n",
       " [67, 91, 39, 74, 100],\n",
       " [67, 91, 39, 74, 100],\n",
       " [67, 91, 39, 74, 100],\n",
       " [67, 91, 39, 74, 100],\n",
       " [67, 91, 39, 74, 100],\n",
       " [67, 91, 39, 74, 100],\n",
       " [67, 91, 39, 74, 100],\n",
       " [67, 91, 39, 74, 100],\n",
       " [67, 91, 39, 74, 100],\n",
       " [67, 91, 39, 74, 100],\n",
       " [67, 91, 39, 74, 100],\n",
       " [67, 91, 39, 74, 100],\n",
       " [67, 91, 39, 74, 100],\n",
       " [67, 91, 39, 74, 100],\n",
       " [67, 91, 39, 74, 100],\n",
       " [67, 91, 39, 74, 100],\n",
       " [67, 91, 39, 74, 100],\n",
       " [67, 91, 39, 74, 100],\n",
       " [67, 91, 39, 74, 100],\n",
       " [67, 91, 39, 74, 100],\n",
       " [67, 91, 39, 74, 100],\n",
       " [67, 91, 39, 74, 100],\n",
       " [67, 91, 39, 74, 100],\n",
       " [67, 91, 39, 74, 100],\n",
       " [67, 91, 39, 74, 100],\n",
       " [67, 91, 39, 74, 100],\n",
       " [67, 91, 39, 74, 100],\n",
       " [67, 91, 39, 74, 100],\n",
       " [67, 91, 39, 74, 100],\n",
       " [67, 91, 39, 74, 100],\n",
       " [67, 91, 39, 74, 100],\n",
       " [67, 91, 39, 74, 100],\n",
       " [67, 91, 39, 74, 100],\n",
       " [67, 91, 39, 74, 100],\n",
       " [67, 91, 39, 74, 100],\n",
       " [67, 91, 39, 74, 100],\n",
       " [67, 91, 39, 74, 100],\n",
       " [67, 91, 39, 74, 100],\n",
       " [67, 91, 39, 74, 100],\n",
       " [67, 91, 39, 74, 100],\n",
       " [67, 91, 39, 74, 100],\n",
       " [67, 91, 39, 74, 100],\n",
       " [67, 91, 39, 74, 100],\n",
       " [67, 91, 39, 74, 100],\n",
       " [67, 91, 39, 74, 100],\n",
       " [67, 91, 39, 74, 100],\n",
       " [67, 91, 39, 74, 100],\n",
       " [67, 91, 39, 74, 100],\n",
       " [67, 91, 39, 74, 100],\n",
       " [67, 91, 39, 74, 100],\n",
       " [67, 91, 39, 74, 100],\n",
       " [67, 91, 39, 74, 100],\n",
       " [67, 91, 39, 74, 100],\n",
       " [67, 91, 39, 74, 100],\n",
       " [67, 91, 39, 74, 100],\n",
       " [67, 91, 39, 74, 100],\n",
       " [67, 91, 39, 74, 100],\n",
       " [67, 91, 39, 74, 100],\n",
       " [67, 91, 39, 74, 100],\n",
       " [67, 91, 39, 74, 100],\n",
       " [67, 91, 39, 74, 100],\n",
       " [67, 91, 39, 74, 100],\n",
       " [67, 91, 39, 74, 100],\n",
       " [67, 91, 39, 74, 100],\n",
       " [67, 91, 39, 74, 100],\n",
       " [67, 91, 39, 74, 100],\n",
       " [67, 91, 39, 74, 100],\n",
       " [67, 91, 39, 74, 100],\n",
       " [67, 91, 39, 74, 100],\n",
       " [67, 91, 39, 74, 100],\n",
       " [67, 91, 39, 74, 100],\n",
       " [67, 91, 39, 74, 100],\n",
       " [67, 91, 39, 74, 100],\n",
       " [67, 91, 39, 74, 100],\n",
       " [67, 91, 39, 74, 100],\n",
       " [67, 91, 39, 74, 100],\n",
       " [67, 91, 39, 74, 100],\n",
       " [67, 91, 39, 74, 100],\n",
       " [67, 91, 39, 74, 100],\n",
       " [67, 91, 39, 74, 100],\n",
       " [67, 91, 39, 74, 100],\n",
       " [67, 91, 39, 74, 100],\n",
       " [67, 91, 39, 74, 100],\n",
       " [67, 91, 39, 74, 100],\n",
       " [67, 91, 39, 74, 100],\n",
       " [67, 91, 39, 74, 100],\n",
       " [67, 91, 39, 74, 100],\n",
       " [67, 91, 39, 74, 100],\n",
       " [67, 91, 39, 74, 100],\n",
       " [67, 91, 39, 74, 100],\n",
       " [67, 91, 39, 74, 100],\n",
       " [67, 91, 39, 74, 100],\n",
       " [67, 91, 39, 74, 100],\n",
       " [67, 91, 39, 74, 100],\n",
       " [67, 91, 39, 74, 100],\n",
       " [67, 91, 39, 74, 100],\n",
       " [67, 91, 39, 74, 100],\n",
       " [67, 91, 39, 74, 100]]"
      ]
     },
     "execution_count": 23,
     "metadata": {},
     "output_type": "execute_result"
    }
   ],
   "source": [
    "fitness_history = [grade(p, target),]\n",
    "\n",
    "# Perform 100 Evolution\n",
    "for i in range(100):\n",
    "    p = evolve(p, target)\n",
    "    fitness_history.append(grade(p, target))\n",
    "\n",
    "p\n",
    "# fitness_history\n",
    "# for datum in fitness_history:\n",
    "#     print(datum)"
   ]
  },
  {
   "cell_type": "code",
   "execution_count": null,
   "metadata": {},
   "outputs": [],
   "source": []
  },
  {
   "cell_type": "code",
   "execution_count": null,
   "metadata": {},
   "outputs": [],
   "source": []
  }
 ],
 "metadata": {
  "kernelspec": {
   "display_name": "Python 3",
   "language": "python",
   "name": "python3"
  },
  "language_info": {
   "codemirror_mode": {
    "name": "ipython",
    "version": 3
   },
   "file_extension": ".py",
   "mimetype": "text/x-python",
   "name": "python",
   "nbconvert_exporter": "python",
   "pygments_lexer": "ipython3",
   "version": "3.7.0"
  }
 },
 "nbformat": 4,
 "nbformat_minor": 2
}
