{
 "cells": [
  {
   "cell_type": "markdown",
   "metadata": {},
   "source": [
    "# <font color=blue> Array manipulation All-in-one\n",
    "Array manipulation is the fundamentals of all programming\n",
    "Often, we spend lots of time figuring the syntax or keyword to accomplish a certain task\n",
    "Worst, we write inefficient codes to achieve a particular task (eg. sort)"
   ]
  },
  {
   "cell_type": "code",
   "execution_count": 37,
   "metadata": {},
   "outputs": [
    {
     "name": "stdout",
     "output_type": "stream",
     "text": [
      "['D' 'E' 'F' 'H' 'L' 'W']\n",
      "[3 4 7 5 6 5]\n",
      "[3 4 5 5 6 7]\n"
     ]
    }
   ],
   "source": [
    "#Count occurrences of element in multi-dimensional array\n",
    "import numpy as np\n",
    "\n",
    "game = np.array([\n",
    "          ['F','W','E','L','D','H'],\n",
    "          ['H','D','L','W','F','E'],\n",
    "          ['E','H','F','L','W','L'],\n",
    "          ['L','F','D','F','H','W'],\n",
    "          ['F','F','L','E','H','W']])\n",
    "unique, counts = np.unique(game, return_counts=True)\n",
    "print(unique)\n",
    "print(counts)\n",
    "\n",
    "print(np.sort(counts))"
   ]
  },
  {
   "cell_type": "code",
   "execution_count": 36,
   "metadata": {},
   "outputs": [
    {
     "name": "stdout",
     "output_type": "stream",
     "text": [
      "['a', 'c', 'd']\n"
     ]
    }
   ],
   "source": [
    "# Remove first occurrence of an element matching the value\n",
    "a = ['a','b','c','d']\n",
    "a.remove('b')\n",
    "print(a)"
   ]
  },
  {
   "cell_type": "code",
   "execution_count": null,
   "metadata": {},
   "outputs": [],
   "source": []
  }
 ],
 "metadata": {
  "kernelspec": {
   "display_name": "Python 3",
   "language": "python",
   "name": "python3"
  },
  "language_info": {
   "codemirror_mode": {
    "name": "ipython",
    "version": 3
   },
   "file_extension": ".py",
   "mimetype": "text/x-python",
   "name": "python",
   "nbconvert_exporter": "python",
   "pygments_lexer": "ipython3",
   "version": "3.6.4"
  }
 },
 "nbformat": 4,
 "nbformat_minor": 2
}
