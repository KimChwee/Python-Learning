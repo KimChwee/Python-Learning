{
 "cells": [
  {
   "cell_type": "markdown",
   "metadata": {},
   "source": [
    "# <font color=blue> Array manipulation All-in-one\n",
    "Array manipulation is the fundamentals of all programming\n",
    "Often, we spend lots of time figuring the syntax or keyword to accomplish a certain task\n",
    "Worst, we write inefficient codes to achieve a particular task (eg. sort)\n",
    "\n",
    "Reference: http://cs231n.github.io/python-numpy-tutorial/#numpy"
   ]
  },
  {
   "cell_type": "code",
   "execution_count": 2,
   "metadata": {},
   "outputs": [],
   "source": [
    "import numpy as np"
   ]
  },
  {
   "cell_type": "code",
   "execution_count": 1,
   "metadata": {},
   "outputs": [
    {
     "name": "stdout",
     "output_type": "stream",
     "text": [
      "['D' 'E' 'F' 'H' 'L' 'W']\n",
      "[3 4 7 5 6 5]\n",
      "[3 4 5 5 6 7]\n"
     ]
    }
   ],
   "source": [
    "#Count occurrences of element in multi-dimensional array\n",
    "game = np.array([\n",
    "          ['F','W','E','L','D','H'],\n",
    "          ['H','D','L','W','F','E'],\n",
    "          ['E','H','F','L','W','L'],\n",
    "          ['L','F','D','F','H','W'],\n",
    "          ['F','F','L','E','H','W']])\n",
    "unique, counts = np.unique(game, return_counts=True)\n",
    "print(unique)\n",
    "print(counts)\n",
    "\n",
    "print(np.sort(counts))"
   ]
  },
  {
   "cell_type": "code",
   "execution_count": 36,
   "metadata": {},
   "outputs": [
    {
     "name": "stdout",
     "output_type": "stream",
     "text": [
      "['a', 'c', 'd']\n"
     ]
    }
   ],
   "source": [
    "# Remove first occurrence of an element matching the value\n",
    "a = ['a','b','c','d']\n",
    "a.remove('b')\n",
    "print(a)"
   ]
  },
  {
   "cell_type": "code",
   "execution_count": 3,
   "metadata": {},
   "outputs": [
    {
     "name": "stdout",
     "output_type": "stream",
     "text": [
      "[[2 3]\n",
      " [6 7]]\n"
     ]
    }
   ],
   "source": [
    "# Create the following rank 2 array with shape (3, 4)\n",
    "# [[ 1  2  3  4]\n",
    "#  [ 5  6  7  8]\n",
    "#  [ 9 10 11 12]]\n",
    "a = np.array([[1,2,3,4], [5,6,7,8], [9,10,11,12]])\n",
    "# Use slicing to pull out the subarray consisting of the first 2 rows\n",
    "# and columns 1 and 2; b is the following array of shape (2, 2):\n",
    "# [[2 3]\n",
    "#  [6 7]]\n",
    "b = a[:2, 1:3]\n",
    "print(b)"
   ]
  },
  {
   "cell_type": "code",
   "execution_count": 5,
   "metadata": {},
   "outputs": [
    {
     "name": "stdout",
     "output_type": "stream",
     "text": [
      "Query1: [ 2  6 10] (3,)\n",
      "Query2: [[ 2]\n",
      " [ 6]\n",
      " [10]] (3, 1)\n"
     ]
    }
   ],
   "source": [
    "# Create the following rank 2 array with shape (3, 4)\n",
    "# [[ 1  2  3  4]\n",
    "#  [ 5  6  7  8]\n",
    "#  [ 9 10 11 12]]\n",
    "a = np.array([[1,2,3,4], [5,6,7,8], [9,10,11,12]])\n",
    "col_r1 = a[:, 1]\n",
    "col_r2 = a[:, 1:2]\n",
    "print('Query1:', col_r1, col_r1.shape)\n",
    "print('Query2:', col_r2, col_r2.shape) "
   ]
  },
  {
   "cell_type": "code",
   "execution_count": 3,
   "metadata": {},
   "outputs": [
    {
     "name": "stdout",
     "output_type": "stream",
     "text": [
      "[1 4 5]\n"
     ]
    }
   ],
   "source": [
    "a = np.array([[1,2], [3, 4], [5, 6]])\n",
    "\n",
    "# An example of integer array indexing.\n",
    "# The returned array will have shape (3,) and\n",
    "print(a[[0, 1, 2], [0, 1, 0]])  # Prints \"[1 4 5]\""
   ]
  },
  {
   "cell_type": "code",
   "execution_count": 7,
   "metadata": {},
   "outputs": [
    {
     "name": "stdout",
     "output_type": "stream",
     "text": [
      "[0 1 2 3 4]\n",
      "[ 5  8 11 14 17]\n"
     ]
    }
   ],
   "source": [
    "# np.arrange(start=0, stop, step=1, dtype=None)\n",
    "\n",
    "#create an array of sequential number from 0 to before 5 in steps of 1\n",
    "print(np.arange(5))\n",
    "\n",
    "#create an array of sequential number from 5 to before 20 in steps of 3\n",
    "print(np.arange(5,20,3))\n",
    "\n",
    "#arange works for decimal as well but its better to use linspace instead"
   ]
  },
  {
   "cell_type": "code",
   "execution_count": 9,
   "metadata": {},
   "outputs": [
    {
     "name": "stdout",
     "output_type": "stream",
     "text": [
      "a: [2, [9, 9]]\n",
      "b: [2, [9, 9]]\n"
     ]
    }
   ],
   "source": [
    "# Importatnt!!!!!\n",
    "# This behavior caosts me days of debugging.\n",
    "# Take note of how values are being passed!\n",
    "a = [2, [3,4]]\n",
    "b = a\n",
    "a[1] = [9,9]\n",
    "print('a:', a)\n",
    "print('b:',b)    #value of b also changes!!!!"
   ]
  },
  {
   "cell_type": "code",
   "execution_count": 13,
   "metadata": {},
   "outputs": [
    {
     "name": "stdout",
     "output_type": "stream",
     "text": [
      "Within function pre-process: [1, 2, 3]\n",
      "Within function post-process: [1, 2, 3, 47, 11]\n",
      "In global after function: [1, 2, 3, 47, 11]\n",
      "------------------------------------------------\n",
      "Within function pre-process: [4, 5, 6]\n",
      "Within function post-process: [4, 5, 6, 47, 11]\n",
      "In global after function: [4, 5, 6]\n"
     ]
    }
   ],
   "source": [
    "# Another example to take note on how python pa\n",
    "def f1(list):\n",
    "    print('Within function pre-process:', list)\n",
    "    list += [47, 11]\n",
    "    print('Within function post-process:', list)\n",
    "\n",
    "abc = [1, 2, 3]\n",
    "f1(abc)\n",
    "print('In global after function:', abc)\n",
    "print('------------------------------------------------')\n",
    "xyz = [4, 5, 6]\n",
    "f1(xyz[:])\n",
    "print('In global after function:', xyz)"
   ]
  },
  {
   "cell_type": "code",
   "execution_count": null,
   "metadata": {},
   "outputs": [],
   "source": []
  }
 ],
 "metadata": {
  "kernelspec": {
   "display_name": "Python 3",
   "language": "python",
   "name": "python3"
  },
  "language_info": {
   "codemirror_mode": {
    "name": "ipython",
    "version": 3
   },
   "file_extension": ".py",
   "mimetype": "text/x-python",
   "name": "python",
   "nbconvert_exporter": "python",
   "pygments_lexer": "ipython3",
   "version": "3.6.5"
  }
 },
 "nbformat": 4,
 "nbformat_minor": 2
}
