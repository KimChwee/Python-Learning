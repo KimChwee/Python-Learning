{
 "cells": [
  {
   "cell_type": "markdown",
   "metadata": {},
   "source": [
    "# <font color=blue> File Read Write Tutorial"
   ]
  },
  {
   "cell_type": "code",
   "execution_count": 4,
   "metadata": {},
   "outputs": [
    {
     "name": "stdout",
     "output_type": "stream",
     "text": [
      "This is a sample test file\n",
      "To test Python Read file\n"
     ]
    }
   ],
   "source": [
    "#!/usr/bin/env python\n",
    "import os.path\n",
    " \n",
    "# Define a filename.\n",
    "filename = \"readme.txt\"\n",
    " \n",
    "if not os.path.isfile(filename):\n",
    "    print('File does not exist.')\n",
    "else:\n",
    "    # Open the file as f. \n",
    "    # The function readlines() reads the file.\n",
    "    with open(filename) as f:\n",
    "        content = f.read().splitlines()\n",
    " \n",
    "    # Show the file contents line by line.\n",
    "    # We added the comma to print single newlines and not double newlines.\n",
    "    # This is because the lines contain the newline character '\\n'. \n",
    "    for line in content:\n",
    "        print(line)"
   ]
  },
  {
   "cell_type": "code",
   "execution_count": 7,
   "metadata": {},
   "outputs": [],
   "source": [
    "filename = \"newfile.txt\"\n",
    " \n",
    "myfile = open(filename, 'w') # Open the file with writing permission\n",
    " \n",
    "myfile.write('Written with Python\\n') # Write a line to the file\n",
    " \n",
    "myfile.close()             # Close the file"
   ]
  },
  {
   "cell_type": "code",
   "execution_count": 8,
   "metadata": {},
   "outputs": [],
   "source": [
    "# Filename to append\n",
    "filename = \"newfile.txt\"\n",
    " \n",
    "myfile = open(filename, 'a') # 'a' means Append; 'w' is write; 'b' is Binary mode;\n",
    "                             # 'r+' means read & write; 'a+' means read & append; 'w+' means read/write(truncates files)\n",
    " \n",
    "# Add the line \n",
    "myfile.write('Written with Python\\n')\n",
    " \n",
    "# Close the file\n",
    "myfile.close()"
   ]
  },
  {
   "cell_type": "code",
   "execution_count": null,
   "metadata": {},
   "outputs": [],
   "source": []
  }
 ],
 "metadata": {
  "kernelspec": {
   "display_name": "Python 3",
   "language": "python",
   "name": "python3"
  },
  "language_info": {
   "codemirror_mode": {
    "name": "ipython",
    "version": 3
   },
   "file_extension": ".py",
   "mimetype": "text/x-python",
   "name": "python",
   "nbconvert_exporter": "python",
   "pygments_lexer": "ipython3",
   "version": "3.6.4"
  }
 },
 "nbformat": 4,
 "nbformat_minor": 2
}
