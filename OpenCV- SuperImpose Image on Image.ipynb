{
 "cells": [
  {
   "cell_type": "markdown",
   "metadata": {},
   "source": [
    "# <font color=blue> Open CV Tutorial: Paste an image on another image"
   ]
  },
  {
   "cell_type": "code",
   "execution_count": 6,
   "metadata": {},
   "outputs": [],
   "source": [
    "import os\n",
    "import cv2\n",
    "\n",
    "#change the path and image file name to your own when running this script\n",
    "path = \"C:\\\\Users\\\\kim_c\\\\OneDrive - National University of Singapore\\\\GitHub\\\\ToS\"\n",
    "# Load the \"bigger\" image to img1\n",
    "img1 = cv2.imread(path + '\\\\boardNorm-001.png')\n",
    "\n",
    "# Load the smaller image to img2\n",
    "img2 = cv2.imread(path + '\\\\stdFire-001.png')\n",
    "\n",
    "# I want to put logo on top-left corner, So I create a ROI\n",
    "rows,cols,channels = img2.shape\n",
    "roi = img1[0:rows, 0:cols ]\n",
    "\n",
    "# Now create a mask of logo and create its inverse mask also\n",
    "img2gray = cv2.cvtColor(img2,cv2.COLOR_BGR2GRAY)\n",
    "ret, mask = cv2.threshold(img2gray, 10, 255, cv2.THRESH_BINARY)\n",
    "mask_inv = cv2.bitwise_not(mask)\n",
    "\n",
    "# Now black-out the area of logo in ROI\n",
    "img1_bg = cv2.bitwise_and(roi,roi,mask = mask_inv)\n",
    "\n",
    "# Take only region of logo from logo image.\n",
    "img2_fg = cv2.bitwise_and(img2,img2,mask = mask)\n",
    "\n",
    "# Put logo in ROI and modify the main image\n",
    "dst = cv2.add(img1_bg,img2_fg)\n",
    "img1[0:rows, 0:cols ] = dst\n",
    "\n",
    "cv2.imshow('res',img1)\n",
    "cv2.waitKey(0)\n",
    "cv2.destroyAllWindows()"
   ]
  },
  {
   "cell_type": "code",
   "execution_count": 8,
   "metadata": {},
   "outputs": [],
   "source": [
    "import os\n",
    "import cv2\n",
    "\n",
    "path = \"C:\\\\Users\\\\kim_c\\\\OneDrive - National University of Singapore\\\\GitHub\\\\ToS\"\n",
    "#img1 = cv2.imread(path + '\\\\boardNorm-001.png')\n",
    "img1 = cv2.imread(path + '\\\\stdFire-001.png')\n",
    "cv2.imshow('res',img1)\n",
    "cv2.waitKey(0)\n",
    "cv2.destroyAllWindows()"
   ]
  },
  {
   "cell_type": "code",
   "execution_count": 9,
   "metadata": {},
   "outputs": [],
   "source": [
    "import os\n",
    "import cv2\n",
    "\n",
    "#change the path and image file name to your own when running this script\n",
    "path = \"C:\\\\Users\\\\kim_c\\\\OneDrive - National University of Singapore\\\\GitHub\\\\ToS\"\n",
    "# Load the \"bigger\" image to img1\n",
    "img1 = cv2.imread(path + '\\\\boardNorm-001.png')\n",
    "\n",
    "# Load the smaller image to img2\n",
    "img2 = cv2.imread(path + '\\\\stdFire-001.png')\n",
    "\n",
    "# I want to put logo on top-left corner, So I create a ROI\n",
    "rows,cols,channels = img2.shape\n",
    "#roi = img1[0:rows, 0:cols ]\n",
    "\n",
    "# Now create a mask of logo and create its inverse mask also\n",
    "#img2gray = cv2.cvtColor(img2,cv2.COLOR_BGR2GRAY)\n",
    "#ret, mask = cv2.threshold(img2gray, 10, 255, cv2.THRESH_BINARY)\n",
    "#mask_inv = cv2.bitwise_not(mask)\n",
    "\n",
    "# Now black-out the area of logo in ROI\n",
    "#img1_bg = cv2.bitwise_and(roi,roi,mask = mask_inv)\n",
    "\n",
    "# Take only region of logo from logo image.\n",
    "#img2_fg = cv2.bitwise_and(img2,img2,mask = mask)\n",
    "\n",
    "# Put logo in ROI and modify the main image\n",
    "#dst = cv2.add(img1_bg,img2_fg)\n",
    "img1[0:rows, 0:cols ] = img2\n",
    "\n",
    "cv2.imshow('res',img1)\n",
    "cv2.waitKey(0)\n",
    "cv2.destroyAllWindows()"
   ]
  },
  {
   "cell_type": "code",
   "execution_count": 13,
   "metadata": {},
   "outputs": [
    {
     "name": "stdout",
     "output_type": "stream",
     "text": [
      "0\n"
     ]
    }
   ],
   "source": [
    "import numpy as np\n",
    "\n",
    "runeIndex = {'F' : 1,\n",
    "             'W' : 2,\n",
    "             'E' : 3,\n",
    "             'L' : 4,\n",
    "             'D' : 5,\n",
    "             'H' : 6}\n",
    "\n",
    "#foodOnHand['roe'] += 10\n",
    "#print(\"Rice: \", foodOnHand['rice'], \"Roe: \", foodOnHand['roe'])\n",
    "rIndex = ['F','W','E','L','D','H']\n",
    "\n",
    "game = np.array([\n",
    "        ['F','W','E','L','D','H'],\n",
    "        ['H','D','L','W','F','E'],\n",
    "        ['E','H','F','L','W','L'],\n",
    "        ['L','F','D','F','H','W'],\n",
    "        ['F','F','L','E','H','W']])\n",
    "\n",
    "print(rIndex.index('F'))"
   ]
  },
  {
   "cell_type": "code",
   "execution_count": 7,
   "metadata": {},
   "outputs": [
    {
     "name": "stdout",
     "output_type": "stream",
     "text": [
      "<PIL.Image.Image image mode=RGB size=68x68 at 0x1D24B7509B0>\n",
      "[[[60 47 25]\n",
      "  [61 45 25]\n",
      "  [68 55 32]\n",
      "  ...\n",
      "  [47 31  8]\n",
      "  [55 35  9]\n",
      "  [56 35 10]]\n",
      "\n",
      " [[44 32 14]\n",
      "  [63 48 33]\n",
      "  [57 43 27]\n",
      "  ...\n",
      "  [37 24  8]\n",
      "  [44 27 10]\n",
      "  [51 30 11]]\n",
      "\n",
      " [[42 33 17]\n",
      "  [56 45 31]\n",
      "  [30 20  5]\n",
      "  ...\n",
      "  [41 24  8]\n",
      "  [48 26 10]\n",
      "  [55 29 14]]\n",
      "\n",
      " ...\n",
      "\n",
      " [[32 17 10]\n",
      "  [30 17  7]\n",
      "  [31 19  7]\n",
      "  ...\n",
      "  [41 24 16]\n",
      "  [41 26 12]\n",
      "  [47 34 14]]\n",
      "\n",
      " [[32 20 10]\n",
      "  [30 18  7]\n",
      "  [31 19  7]\n",
      "  ...\n",
      "  [41 24 16]\n",
      "  [41 26 12]\n",
      "  [47 34 14]]\n",
      "\n",
      " [[32 20 10]\n",
      "  [30 18  7]\n",
      "  [31 19  7]\n",
      "  ...\n",
      "  [41 24 12]\n",
      "  [43 25 10]\n",
      "  [51 32 14]]]\n"
     ]
    }
   ],
   "source": [
    "from PIL import Image, ImageGrab, ImageOps\n",
    "import numpy as np\n",
    "\n",
    "im = ImageGrab.grab((765, 493, 765+68, 493+68))\n",
    "print(im)\n",
    "cImage = np.array(im)\n",
    "print(cImage)"
   ]
  },
  {
   "cell_type": "code",
   "execution_count": 4,
   "metadata": {},
   "outputs": [
    {
     "ename": "TypeError",
     "evalue": "iteration over a 0-d array",
     "output_type": "error",
     "traceback": [
      "\u001b[1;31m---------------------------------------------------------------------------\u001b[0m",
      "\u001b[1;31mTypeError\u001b[0m                                 Traceback (most recent call last)",
      "\u001b[1;32m<ipython-input-4-4e2cd9840cef>\u001b[0m in \u001b[0;36m<module>\u001b[1;34m()\u001b[0m\n\u001b[1;32m----> 1\u001b[1;33m \u001b[1;32mfor\u001b[0m \u001b[0meachElem\u001b[0m \u001b[1;32min\u001b[0m \u001b[0mcImage\u001b[0m\u001b[1;33m:\u001b[0m\u001b[1;33m\u001b[0m\u001b[0m\n\u001b[0m\u001b[0;32m      2\u001b[0m     \u001b[0mprint\u001b[0m\u001b[1;33m(\u001b[0m\u001b[0meachElem\u001b[0m\u001b[1;33m)\u001b[0m\u001b[1;33m\u001b[0m\u001b[0m\n",
      "\u001b[1;31mTypeError\u001b[0m: iteration over a 0-d array"
     ]
    }
   ],
   "source": [
    "for eachElem in cImage:\n",
    "    print(eachElem)"
   ]
  },
  {
   "cell_type": "code",
   "execution_count": null,
   "metadata": {},
   "outputs": [],
   "source": []
  }
 ],
 "metadata": {
  "kernelspec": {
   "display_name": "Python 3",
   "language": "python",
   "name": "python3"
  },
  "language_info": {
   "codemirror_mode": {
    "name": "ipython",
    "version": 3
   },
   "file_extension": ".py",
   "mimetype": "text/x-python",
   "name": "python",
   "nbconvert_exporter": "python",
   "pygments_lexer": "ipython3",
   "version": "3.6.4"
  }
 },
 "nbformat": 4,
 "nbformat_minor": 2
}
