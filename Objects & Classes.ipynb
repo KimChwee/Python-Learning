{
 "cells": [
  {
   "cell_type": "markdown",
   "metadata": {},
   "source": [
    "# <font color=blue> Objects and Classes"
   ]
  },
  {
   "cell_type": "markdown",
   "metadata": {},
   "source": [
    "## <font color=green> Basic structure of a class"
   ]
  },
  {
   "cell_type": "code",
   "execution_count": 50,
   "metadata": {},
   "outputs": [
    {
     "name": "stdout",
     "output_type": "stream",
     "text": [
      "Tony.Stuart@company.com\n",
      "{'first': 'Tony', 'last': 'Stuart', 'pay': 50000, 'email': 'Tony.Stuart@company.com'}\n",
      "\n",
      "{'__module__': '__main__', '__init__': <function Employee.__init__ at 0x000001EDC59D3048>, '__dict__': <attribute '__dict__' of 'Employee' objects>, '__weakref__': <attribute '__weakref__' of 'Employee' objects>, '__doc__': None}\n"
     ]
    }
   ],
   "source": [
    "#simple class with just an init method\n",
    "class Employee:\n",
    "    def __init__(self, first, last, pay):   #first variable will be the instance name\n",
    "        self.first = first\n",
    "        self.last = last\n",
    "        self.pay = pay\n",
    "        self.email = first + '.' + last + '@company.com'\n",
    "\n",
    "#This is how you create an instance of the class.\n",
    "#Self is assigned to emp1, first/last/pay is assigned to 'Tony','Stuart', pay\n",
    "emp1 = Employee('Tony', 'Stuart', 50000)     \n",
    "print(emp1.email)\n",
    "print(emp1.__dict__)   #print the structure and details of instance emp1\n",
    "print()\n",
    "print(Employee.__dict__)    #print the structure and details of class Employee"
   ]
  },
  {
   "cell_type": "code",
   "execution_count": 60,
   "metadata": {},
   "outputs": [
    {
     "name": "stdout",
     "output_type": "stream",
     "text": [
      "Tony Stuart\n",
      "Tony Stuart\n",
      "Tony Stuart\n"
     ]
    }
   ],
   "source": [
    "#defining a simple method to return full name\n",
    "class Employee:\n",
    "    def __init__(self, first, last, pay):\n",
    "        self.first = first\n",
    "        self.last = last\n",
    "        self.pay = pay\n",
    "        self.email = first + '.' + last + '@company.com'\n",
    "    def fullname(self):\n",
    "        return '{} {}'.format(self.first, self.last)\n",
    "\n",
    "emp1 = Employee('Tony', 'Stuart', 50000)  \n",
    "#The below 3 statement is the same\n",
    "print('{} {}'.format(emp1.first, emp1.last))\n",
    "print(emp1.fullname())\n",
    "print(Employee.fullname(emp1))"
   ]
  },
  {
   "cell_type": "code",
   "execution_count": null,
   "metadata": {},
   "outputs": [],
   "source": [
    "#Method in a class\n",
    "class Employee:\n",
    "    num_of_emps = 0\n",
    "    raise_amt = 1.04\n",
    "    def __init__(self, first, last, pay):\n",
    "        self.first = first\n",
    "        self.last = last\n",
    "        self.pay = pay\n",
    "        self.email = first + '.' + last + '@company.com'\n",
    "        Employee.num_of_emps += 1\n",
    "    \n",
    "    def fullname(self):\n",
    "        return '{} {}'.format(self.first, self.last)\n",
    "\n",
    "    def apply_raise(self):\n",
    "        self.pay = int(self.pay * self.raise_amount)\n",
    "\n",
    "emp1 = Employee('John', 'Bradley', 5000)"
   ]
  },
  {
   "cell_type": "code",
   "execution_count": 59,
   "metadata": {},
   "outputs": [
    {
     "name": "stdout",
     "output_type": "stream",
     "text": [
      "0\n",
      "1\n"
     ]
    }
   ],
   "source": [
    "#trying out class variable: num_of_emps\n",
    "class Employee:\n",
    "    num_of_emps = 0   \n",
    "    def __init__(self, first, last, pay):\n",
    "        self.first = first\n",
    "        self.last = last\n",
    "        self.pay = pay\n",
    "        self.email = first + '.' + last + '@company.com'\n",
    "#note: Using Class name Employee insead of 'Self'\n",
    "        Employee.num_of_emps += 1     #add one everytime an instance is created\n",
    "    def fullname(self):\n",
    "        return '{} {}'.format(self.first, self.last)\n",
    "\n",
    "print(Employee.num_of_emps)\n",
    "emp1 = Employee('Tony', 'Stuart', 50000)  \n",
    "print(Employee.num_of_emps)\n"
   ]
  },
  {
   "cell_type": "code",
   "execution_count": 68,
   "metadata": {},
   "outputs": [
    {
     "name": "stdout",
     "output_type": "stream",
     "text": [
      "1.04 1.04 1.04\n",
      "1.05 1.05 1.05\n",
      "1.06 1.06 1.06\n"
     ]
    }
   ],
   "source": [
    "#intro to class method\n",
    "class Employee:\n",
    "    num_of_emps = 0\n",
    "    raise_amt = 1.04\n",
    "    def __init__(self, first, last, pay):\n",
    "        self.first = first\n",
    "        self.last = last\n",
    "        self.pay = pay\n",
    "        self.email = first + '.' + last + '@company.com'\n",
    "        Employee.num_of_emps += 1\n",
    "    \n",
    "    def fullname(self):\n",
    "        return '{} {}'.format(self.first, self.last)\n",
    "\n",
    "    def apply_raise(self):\n",
    "        self.pay = int(self.pay * self.raise_amount)\n",
    "#Put this @classmthod before def to mean Class Method\n",
    "    @classmethod\n",
    "    def set_raise_amt(cls, amount):\n",
    "        cls.raise_amt = amount\n",
    "\n",
    "emp1 = Employee('Corey','Schafer',50000)\n",
    "emp2 = Employee('Test','User',60000)\n",
    "print(Employee.raise_amt, emp1.raise_amt, emp2.raise_amt)\n",
    "Employee.set_raise_amt(1.05)\n",
    "print(Employee.raise_amt, emp1.raise_amt, emp2.raise_amt)\n",
    "#Doing instance call is also going to change the global value\n",
    "emp1.set_raise_amt(1.06)\n",
    "print(Employee.raise_amt, emp1.raise_amt, emp2.raise_amt)"
   ]
  },
  {
   "cell_type": "code",
   "execution_count": 70,
   "metadata": {},
   "outputs": [
    {
     "name": "stdout",
     "output_type": "stream",
     "text": [
      "Tony Stuart 70000\n"
     ]
    }
   ],
   "source": [
    "#Another use of class method\n",
    "class Employee:\n",
    "    num_of_emps = 0\n",
    "    raise_amt = 1.04\n",
    "    def __init__(self, first, last, pay):\n",
    "        self.first = first\n",
    "        self.last = last\n",
    "        self.pay = pay\n",
    "        self.email = first + '.' + last + '@company.com'\n",
    "        Employee.num_of_emps += 1\n",
    "    \n",
    "    def fullname(self):\n",
    "        return '{} {}'.format(self.first, self.last)\n",
    "\n",
    "    def apply_raise(self):\n",
    "        self.pay = int(self.pay * self.raise_amount)\n",
    "    @classmethod\n",
    "    def set_raise_amt(cls, amount):\n",
    "        cls.raise_amt = amount\n",
    "# Rem to put @classmethod again if you want to create another class mtd\n",
    "    @classmethod\n",
    "    def from_str(cls, emp_str):\n",
    "        first, last, pay = emp_str.split('-')\n",
    "        return cls(first, last, pay)\n",
    "        \n",
    "emp1 = Employee.from_str('Tony-Stuart-70000')\n",
    "print(emp1.fullname(), emp1.pay)"
   ]
  },
  {
   "cell_type": "code",
   "execution_count": 88,
   "metadata": {},
   "outputs": [
    {
     "name": "stdout",
     "output_type": "stream",
     "text": [
      "False\n"
     ]
    }
   ],
   "source": [
    "#Static method. Any regular independent function which you want\n",
    "#to include in a class\n",
    "class Employee:\n",
    "    num_of_emps = 0\n",
    "    raise_amt = 1.04\n",
    "    def __init__(self, first, last, pay):\n",
    "        self.first = first\n",
    "        self.last = last\n",
    "        self.pay = pay\n",
    "        self.email = first + '.' + last + '@company.com'\n",
    "        Employee.num_of_emps += 1\n",
    "    \n",
    "    def fullname(self):\n",
    "        return '{} {}'.format(self.first, self.last)\n",
    "\n",
    "    def apply_raise(self):\n",
    "        self.pay = int(self.pay * self.raise_amt)\n",
    "    @classmethod\n",
    "    def set_raise_amt(cls, amount):\n",
    "        cls.raise_amt = amount\n",
    "# Rem to put @classmethod again if you want to create another class mtd\n",
    "    @classmethod\n",
    "    def from_str(cls, emp_str):\n",
    "        first, last, pay = emp_str.split('-')\n",
    "        return cls(first, last, float(pay))\n",
    "    @staticmethod\n",
    "    def is_workday(day):\n",
    "#0 - Monday, 5 - Saturday, 6 - Sunday\n",
    "        if day.weekday() == 5 or day.weekday() == 6:\n",
    "            return False\n",
    "        return True\n",
    "\n",
    "import datetime\n",
    "my_date = datetime.date(2016, 7, 10)\n",
    "print(Employee.is_workday(my_date))"
   ]
  },
  {
   "cell_type": "code",
   "execution_count": 80,
   "metadata": {},
   "outputs": [
    {
     "name": "stdout",
     "output_type": "stream",
     "text": [
      "John Bradley\n"
     ]
    }
   ],
   "source": [
    "#Inheritance. A class can inherit another class!\n",
    "class Developer(Employee):\n",
    "    pass\n",
    "\n",
    "emp1 = Developer.from_str('John-Bradley-1234')\n",
    "print(emp1.fullname())"
   ]
  },
  {
   "cell_type": "code",
   "execution_count": 91,
   "metadata": {},
   "outputs": [
    {
     "name": "stdout",
     "output_type": "stream",
     "text": [
      "11000\n"
     ]
    }
   ],
   "source": [
    "class Developer(Employee):\n",
    "    raise_amt = 1.10\n",
    "\n",
    "emp1 = Developer.from_str('John-Bradley-10000')\n",
    "emp2 = Employee.from_str('Lee-Xiao-5000')\n",
    "emp1.apply_raise()\n",
    "#Developer gets 10% raise as opposed to 4% in Employee class\n",
    "print(emp1.pay)   "
   ]
  },
  {
   "cell_type": "code",
   "execution_count": null,
   "metadata": {},
   "outputs": [],
   "source": []
  },
  {
   "cell_type": "code",
   "execution_count": null,
   "metadata": {},
   "outputs": [],
   "source": []
  }
 ],
 "metadata": {
  "kernelspec": {
   "display_name": "Python 3",
   "language": "python",
   "name": "python3"
  },
  "language_info": {
   "codemirror_mode": {
    "name": "ipython",
    "version": 3
   },
   "file_extension": ".py",
   "mimetype": "text/x-python",
   "name": "python",
   "nbconvert_exporter": "python",
   "pygments_lexer": "ipython3",
   "version": "3.6.4"
  }
 },
 "nbformat": 4,
 "nbformat_minor": 2
}
