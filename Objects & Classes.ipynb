{
 "cells": [
  {
   "cell_type": "markdown",
   "metadata": {},
   "source": [
    "# <font color=blue> Objects and Classes"
   ]
  },
  {
   "cell_type": "markdown",
   "metadata": {},
   "source": [
    "## <font color=green> Basic structure of a class"
   ]
  },
  {
   "cell_type": "code",
   "execution_count": 50,
   "metadata": {},
   "outputs": [
    {
     "name": "stdout",
     "output_type": "stream",
     "text": [
      "Tony.Stuart@company.com\n",
      "{'first': 'Tony', 'last': 'Stuart', 'pay': 50000, 'email': 'Tony.Stuart@company.com'}\n",
      "\n",
      "{'__module__': '__main__', '__init__': <function Employee.__init__ at 0x000001EDC59D3048>, '__dict__': <attribute '__dict__' of 'Employee' objects>, '__weakref__': <attribute '__weakref__' of 'Employee' objects>, '__doc__': None}\n"
     ]
    }
   ],
   "source": [
    "#simple class with just an init method\n",
    "class Employee:\n",
    "    def __init__(self, first, last, pay):   #first variable will be the instance name\n",
    "        self.first = first\n",
    "        self.last = last\n",
    "        self.pay = pay\n",
    "        self.email = first + '.' + last + '@company.com'\n",
    "\n",
    "#This is how you create an instance of the class.\n",
    "#Self is assigned to emp1, first/last/pay is assigned to 'Tony','Stuart', pay\n",
    "emp1 = Employee('Tony', 'Stuart', 50000)     \n",
    "print(emp1.email)\n",
    "print(emp1.__dict__)   #print the structure and details of instance emp1\n",
    "print()\n",
    "print(Employee.__dict__)    #print the structure and details of class Employee"
   ]
  },
  {
   "cell_type": "code",
   "execution_count": 60,
   "metadata": {},
   "outputs": [
    {
     "name": "stdout",
     "output_type": "stream",
     "text": [
      "Tony Stuart\n",
      "Tony Stuart\n",
      "Tony Stuart\n"
     ]
    }
   ],
   "source": [
    "#defining a simple method to return full name\n",
    "class Employee:\n",
    "    def __init__(self, first, last, pay):\n",
    "        self.first = first\n",
    "        self.last = last\n",
    "        self.pay = pay\n",
    "        self.email = first + '.' + last + '@company.com'\n",
    "    def fullname(self):\n",
    "        return '{} {}'.format(self.first, self.last)\n",
    "\n",
    "emp1 = Employee('Tony', 'Stuart', 50000)  \n",
    "#The below 3 statement is the same\n",
    "print('{} {}'.format(emp1.first, emp1.last))\n",
    "print(emp1.fullname())\n",
    "print(Employee.fullname(emp1))"
   ]
  },
  {
   "cell_type": "code",
   "execution_count": null,
   "metadata": {},
   "outputs": [],
   "source": [
    "#Method in a class\n",
    "class Employee:\n",
    "    num_of_emps = 0\n",
    "    raise_amt = 1.04\n",
    "    def __init__(self, first, last, pay):\n",
    "        self.first = first\n",
    "        self.last = last\n",
    "        self.pay = pay\n",
    "        self.email = first + '.' + last + '@company.com'\n",
    "        Employee.num_of_emps += 1\n",
    "    \n",
    "    def fullname(self):\n",
    "        return '{} {}'.format(self.first, self.last)\n",
    "\n",
    "    def apply_raise(self):\n",
    "        self.pay = int(self.pay * self.raise_amount)\n",
    "\n",
    "emp1 = Employee('John', 'Bradley', 5000)"
   ]
  },
  {
   "cell_type": "code",
   "execution_count": 59,
   "metadata": {},
   "outputs": [
    {
     "name": "stdout",
     "output_type": "stream",
     "text": [
      "0\n",
      "1\n"
     ]
    }
   ],
   "source": [
    "#trying out class variable: num_of_emps\n",
    "class Employee:\n",
    "    num_of_emps = 0   \n",
    "    def __init__(self, first, last, pay):\n",
    "        self.first = first\n",
    "        self.last = last\n",
    "        self.pay = pay\n",
    "        self.email = first + '.' + last + '@company.com'\n",
    "#note: Using Class name Employee insead of 'Self'\n",
    "        Employee.num_of_emps += 1     #add one everytime an instance is created\n",
    "    def fullname(self):\n",
    "        return '{} {}'.format(self.first, self.last)\n",
    "\n",
    "print(Employee.num_of_emps)\n",
    "emp1 = Employee('Tony', 'Stuart', 50000)  \n",
    "print(Employee.num_of_emps)\n"
   ]
  },
  {
   "cell_type": "code",
   "execution_count": 68,
   "metadata": {},
   "outputs": [
    {
     "name": "stdout",
     "output_type": "stream",
     "text": [
      "1.04 1.04 1.04\n",
      "1.05 1.05 1.05\n",
      "1.06 1.06 1.06\n"
     ]
    }
   ],
   "source": [
    "#intro to class method\n",
    "class Employee:\n",
    "    num_of_emps = 0\n",
    "    raise_amt = 1.04\n",
    "    def __init__(self, first, last, pay):\n",
    "        self.first = first\n",
    "        self.last = last\n",
    "        self.pay = pay\n",
    "        self.email = first + '.' + last + '@company.com'\n",
    "        Employee.num_of_emps += 1\n",
    "    \n",
    "    def fullname(self):\n",
    "        return '{} {}'.format(self.first, self.last)\n",
    "\n",
    "    def apply_raise(self):\n",
    "        self.pay = int(self.pay * self.raise_amount)\n",
    "#Put this @classmthod before def to mean Class Method\n",
    "    @classmethod\n",
    "    def set_raise_amt(cls, amount):\n",
    "        cls.raise_amt = amount\n",
    "\n",
    "emp1 = Employee('Corey','Schafer',50000)\n",
    "emp2 = Employee('Test','User',60000)\n",
    "print(Employee.raise_amt, emp1.raise_amt, emp2.raise_amt)\n",
    "Employee.set_raise_amt(1.05)\n",
    "print(Employee.raise_amt, emp1.raise_amt, emp2.raise_amt)\n",
    "#Doing instance call is also going to change the global value\n",
    "emp1.set_raise_amt(1.06)\n",
    "print(Employee.raise_amt, emp1.raise_amt, emp2.raise_amt)"
   ]
  },
  {
   "cell_type": "code",
   "execution_count": 70,
   "metadata": {},
   "outputs": [
    {
     "name": "stdout",
     "output_type": "stream",
     "text": [
      "Tony Stuart 70000\n"
     ]
    }
   ],
   "source": [
    "#Another use of class method\n",
    "class Employee:\n",
    "    num_of_emps = 0\n",
    "    raise_amt = 1.04\n",
    "    def __init__(self, first, last, pay):\n",
    "        self.first = first\n",
    "        self.last = last\n",
    "        self.pay = pay\n",
    "        self.email = first + '.' + last + '@company.com'\n",
    "        Employee.num_of_emps += 1\n",
    "    \n",
    "    def fullname(self):\n",
    "        return '{} {}'.format(self.first, self.last)\n",
    "\n",
    "    def apply_raise(self):\n",
    "        self.pay = int(self.pay * self.raise_amount)\n",
    "    @classmethod\n",
    "    def set_raise_amt(cls, amount):\n",
    "        cls.raise_amt = amount\n",
    "# Rem to put @classmethod again if you want to create another class mtd\n",
    "    @classmethod\n",
    "    def from_str(cls, emp_str):\n",
    "        first, last, pay = emp_str.split('-')\n",
    "        return cls(first, last, pay)\n",
    "        \n",
    "emp1 = Employee.from_str('Tony-Stuart-70000')\n",
    "print(emp1.fullname(), emp1.pay)"
   ]
  },
  {
   "cell_type": "code",
   "execution_count": 15,
   "metadata": {},
   "outputs": [
    {
     "name": "stdout",
     "output_type": "stream",
     "text": [
      "False\n"
     ]
    }
   ],
   "source": [
    "#Static method. Any regular independent function which you want\n",
    "#to include in a class\n",
    "class Employee:\n",
    "    num_of_emps = 0\n",
    "    raise_amt = 1.04\n",
    "    def __init__(self, first, last, pay):\n",
    "        self.first = first\n",
    "        self.last = last\n",
    "        self.pay = pay\n",
    "        self.email = first + '.' + last + '@company.com'\n",
    "        Employee.num_of_emps += 1\n",
    "    \n",
    "    def fullname(self):\n",
    "        return '{} {}'.format(self.first, self.last)\n",
    "\n",
    "    def apply_raise(self):\n",
    "        self.pay = int(self.pay * self.raise_amt)\n",
    "    @classmethod\n",
    "    def set_raise_amt(cls, amount):\n",
    "        cls.raise_amt = amount\n",
    "# Rem to put @classmethod again if you want to create another class mtd\n",
    "    @classmethod\n",
    "    def from_str(cls, emp_str):\n",
    "        first, last, pay = emp_str.split('-')\n",
    "        return cls(first, last, float(pay))\n",
    "    @staticmethod\n",
    "    def is_workday(day):\n",
    "#0 - Monday, 5 - Saturday, 6 - Sunday\n",
    "        if day.weekday() == 5 or day.weekday() == 6:\n",
    "            return False\n",
    "        return True\n",
    "\n",
    "import datetime\n",
    "my_date = datetime.date(2016, 7, 10)\n",
    "print(Employee.is_workday(my_date))"
   ]
  },
  {
   "cell_type": "code",
   "execution_count": 80,
   "metadata": {},
   "outputs": [
    {
     "name": "stdout",
     "output_type": "stream",
     "text": [
      "John Bradley\n"
     ]
    }
   ],
   "source": [
    "#Inheritance. A class can inherit another class!\n",
    "class Developer(Employee):\n",
    "    pass\n",
    "\n",
    "emp1 = Developer.from_str('John-Bradley-1234')\n",
    "print(emp1.fullname())"
   ]
  },
  {
   "cell_type": "code",
   "execution_count": 5,
   "metadata": {},
   "outputs": [
    {
     "name": "stdout",
     "output_type": "stream",
     "text": [
      "11000 5000.0\n",
      "12100 5200\n"
     ]
    }
   ],
   "source": [
    "#Inheritance and class specific variables\n",
    "class Developer(Employee):\n",
    "    raise_amt = 1.10    #Developer class specific raise_amt\n",
    "\n",
    "emp1 = Developer.from_str('John-Bradley-10000')\n",
    "emp2 = Employee.from_str('Lee-Xiao-5000')\n",
    "emp1.apply_raise()\n",
    "#Developer gets 10% raise as opposed to 4% in Employee class\n",
    "print(emp1.pay, emp2.pay)   \n",
    "Employee.apply_raise(emp1) #note the behaviors. Emp1 belongs to Developer class so apply_raise = 10%\n",
    "Employee.apply_raise(emp2) #emp2 got 4% for apply_raise\n",
    "print(emp1.pay, emp2.pay)   "
   ]
  },
  {
   "cell_type": "code",
   "execution_count": 49,
   "metadata": {},
   "outputs": [
    {
     "name": "stdout",
     "output_type": "stream",
     "text": [
      "John.Bradley@company.com Python\n"
     ]
    }
   ],
   "source": [
    "#Inheritance and class specific methods\n",
    "class Developer(Employee):\n",
    "    raise_amt = 1.10\n",
    "    def __init__(self, first, last, pay, prog_lang):\n",
    "        super().__init__(first, last, pay)   #Calls the parent class init method\n",
    "        self.prog_lang = prog_lang\n",
    "        \n",
    "emp1 = Developer('John','Bradley',10000,'Python')        \n",
    "print(emp1.email, emp1.prog_lang)"
   ]
  },
  {
   "cell_type": "code",
   "execution_count": 46,
   "metadata": {},
   "outputs": [
    {
     "name": "stdout",
     "output_type": "stream",
     "text": [
      "--> John Bradley\n",
      "None\n",
      "Latest employee list reporting to  Zeus Smith\n",
      "--> John Bradley\n",
      "--> Kate Koh\n",
      "None\n"
     ]
    }
   ],
   "source": [
    "#Inheritance tutorial cont'\n",
    "class Manager(Employee):\n",
    "    def __init__(self, first, last, pay, employees=None):\n",
    "        super().__init__(first, last, pay)\n",
    "        if employees is None:\n",
    "            self.employees = []\n",
    "        else:\n",
    "            self.employees = employees\n",
    "\n",
    "    def add_emp(self, emp):\n",
    "        if emp not in self.employees:\n",
    "            self.employees.append(emp)\n",
    "\n",
    "    def remove_emp(self, emp):\n",
    "        if emp in self.employees:\n",
    "            self.employees.remove(emp)\n",
    "    \n",
    "    def print_emps(self):\n",
    "        for emp in self.employees:\n",
    "            if emp == None:    #not working!!!\n",
    "                print('abc')\n",
    "            else:\n",
    "                print('-->', emp.fullname())\n",
    "\n",
    "\n",
    "dev1 = Developer('John','Bradley', 10000, 'Python')\n",
    "dev2 = Developer('Kate','Koh', 10000, 'Java')\n",
    "mgr1 = Manager('Zeus','Smith',98000, [dev1])\n",
    "\n",
    "#Not sure why the None keep getting printed........... different behaviors from Youtube video\n",
    "print(mgr1.print_emps())\n",
    "mgr1.add_emp(dev2)\n",
    "print('Latest employee list reporting to ', mgr1.fullname())\n",
    "print(mgr1.print_emps())"
   ]
  },
  {
   "cell_type": "code",
   "execution_count": 50,
   "metadata": {},
   "outputs": [
    {
     "name": "stdout",
     "output_type": "stream",
     "text": [
      "True\n",
      "True\n",
      "False\n",
      "True\n"
     ]
    }
   ],
   "source": [
    "#side note on some functions related to class\n",
    "print(isinstance(mgr1, Manager))     #check if mgr1 is an instance of Class: Manager\n",
    "print(isinstance(mgr1, Employee))\n",
    "print(isinstance(mgr1, Developer))   #Mgr1 is not an instance of Class: Developer\n",
    "\n",
    "print(issubclass(Developer,Employee))   #Check if Class Developer is a subclass of Class: Employee"
   ]
  },
  {
   "cell_type": "code",
   "execution_count": 60,
   "metadata": {},
   "outputs": [
    {
     "data": {
      "text/plain": [
       "Employee('Corey','Schafer',50000)"
      ]
     },
     "execution_count": 60,
     "metadata": {},
     "output_type": "execute_result"
    }
   ],
   "source": [
    "#Special class methods\n",
    "class Employee:\n",
    "    num_of_emps = 0\n",
    "    raise_amt = 1.04\n",
    "    def __init__(self, first, last, pay):\n",
    "        self.first = first\n",
    "        self.last = last\n",
    "        self.pay = pay\n",
    "        self.email = first + '.' + last + '@company.com'\n",
    "        Employee.num_of_emps += 1\n",
    "    def fullname(self):\n",
    "        return '{} {}'.format(self.first, self.last)\n",
    "        \n",
    "#repr is more for debugging; str is for end user documentation\n",
    "    def __repr__(self):     #all special methods have double underscore before and after the method\n",
    "        return \"Employee('{}','{}',{})\".format(self.first, self.last, self.pay)\n",
    "    \n",
    "    def __str__(self):\n",
    "        return '{} = {}'.format(self.fullname(), self.email)\n",
    "\n",
    "emp1 = Employee('Corey', 'Schafer', 50000)    \n",
    "emp1      #repr method will be called"
   ]
  },
  {
   "cell_type": "code",
   "execution_count": 61,
   "metadata": {},
   "outputs": [
    {
     "name": "stdout",
     "output_type": "stream",
     "text": [
      "Corey Schafer = Corey.Schafer@company.com\n"
     ]
    }
   ],
   "source": [
    "print(emp1)    #str method will be called"
   ]
  },
  {
   "cell_type": "code",
   "execution_count": 63,
   "metadata": {},
   "outputs": [
    {
     "name": "stdout",
     "output_type": "stream",
     "text": [
      "60000\n"
     ]
    }
   ],
   "source": [
    "#Special class methods cont'\n",
    "class Employee:\n",
    "    num_of_emps = 0\n",
    "    raise_amt = 1.04\n",
    "    def __init__(self, first, last, pay):\n",
    "        self.first = first\n",
    "        self.last = last\n",
    "        self.pay = pay\n",
    "        self.email = first + '.' + last + '@company.com'\n",
    "        Employee.num_of_emps += 1\n",
    "    def fullname(self):\n",
    "        return '{} {}'.format(self.first, self.last)\n",
    "    def __add__(self, other):\n",
    "        return self.pay + other.pay\n",
    "\n",
    "emp1 = Employee('Corey','Schafer',50000)\n",
    "emp2 = Employee('Kate','Koh',10000)\n",
    "\n",
    "print(emp1 + emp2)   # + triggered the __add__ and calls Employee.__add__ method"
   ]
  },
  {
   "cell_type": "markdown",
   "metadata": {},
   "source": [
    "#### <font color=blue> More standard special methods found below:\n",
    "__[Numeric Types Emulators Doc](https://docs.python.org/2.0/ref/numeric-types.html)__"
   ]
  },
  {
   "cell_type": "code",
   "execution_count": 65,
   "metadata": {},
   "outputs": [
    {
     "name": "stdout",
     "output_type": "stream",
     "text": [
      "John John.Smith@email.com John Smith\n"
     ]
    }
   ],
   "source": [
    "# Use of class property\n",
    "class Employee:\n",
    "    \n",
    "    def __init__(self, first, last):\n",
    "        self.first = first\n",
    "        self.last = last\n",
    "        #self.email = first + '.' + last + '@email.com'\n",
    "    @property\n",
    "    def email(self):\n",
    "        return '{}.{}@email.com'.format(self.first, self.last)\n",
    "\n",
    "    def fullname(self):\n",
    "        return '{} {}'.format(self.first, self.last)\n",
    "    \n",
    "emp1 = Employee('John', 'Smith')\n",
    "\n",
    "#fullname is a method so it's called with ()\n",
    "#email was an attribute and we converted it to method in this tutorial\n",
    "#but we still want to keep email as an attribute. This is the use of @property\n",
    "print(emp1.first, emp1.email, emp1.fullname())"
   ]
  },
  {
   "cell_type": "code",
   "execution_count": 71,
   "metadata": {},
   "outputs": [
    {
     "name": "stdout",
     "output_type": "stream",
     "text": [
      "John Smith\n",
      "Corey Schafer\n",
      "Delete Name!\n"
     ]
    }
   ],
   "source": [
    "# Use of class setter & deleter\n",
    "class Employee:\n",
    "    \n",
    "    def __init__(self, first, last):\n",
    "        self.first = first\n",
    "        self.last = last\n",
    "        #self.email = first + '.' + last + '@email.com'\n",
    "    @property\n",
    "    def email(self):\n",
    "        return '{}.{}@email.com'.format(self.first, self.last)\n",
    "    @property\n",
    "    def fullname(self):\n",
    "        return '{} {}'.format(self.first, self.last)\n",
    "#prefix for setter will be the name of respective attribute\n",
    "    @fullname.setter\n",
    "    def fullname(self, name):\n",
    "        first, last = name.split(' ')\n",
    "        self.first = first\n",
    "        self.last = last\n",
    "\n",
    "    @fullname.deleter\n",
    "    def fullname(self):\n",
    "        print('Delete Name!')\n",
    "        self.first = None\n",
    "        self.last = None\n",
    "        \n",
    "emp1 = Employee('John', 'Smith')\n",
    "print(emp1.fullname)\n",
    "emp1.fullname = 'Corey Schafer'\n",
    "print(emp1.fullname)\n",
    "del emp1.fullname"
   ]
  },
  {
   "cell_type": "code",
   "execution_count": 84,
   "metadata": {},
   "outputs": [
    {
     "name": "stdout",
     "output_type": "stream",
     "text": [
      "Updating software...\n",
      "driving. maxspeed 200\n",
      "driving. maxspeed 200\n",
      "10\n",
      "driving. maxspeed 80\n",
      "10\n"
     ]
    }
   ],
   "source": [
    "#Encapsulation: private variables and methods\n",
    "class Car:\n",
    "    __maxspeed = 0\n",
    "    __name = \"\"\n",
    "    \n",
    "    def __init__(self):\n",
    "        self.__updateSoftware()\n",
    "        self.__maxspeed = 200\n",
    "        self.__name = \"Supercar\"\n",
    "    \n",
    "    def drive(self):\n",
    "        print('driving. maxspeed ' + str(self.__maxspeed))\n",
    "        \n",
    "# double underscore infront means private methods and can only be called within your code\n",
    "# i.e. user cannot do Car.__updateSoftware()\n",
    "    def __updateSoftware(self):\n",
    "        print('Updating software...')\n",
    "        \n",
    "    def setMaxSpeed(self, speed):\n",
    "        self.__maxspeed = speed\n",
    "\n",
    "redcar = Car()\n",
    "redcar.drive()\n",
    "#print(redcar.__maxspeed)  #this will gives syntax error because private variables cannot be accessed\n",
    "# will not change variable because its private; a new variable __maxspeed will be created\n",
    "#but this is not the real __maxspeed within the class\n",
    "redcar.__maxspeed = 10   \n",
    "redcar.drive()\n",
    "print(redcar.__maxspeed)  #this part returns 10\n",
    "#redcar.__updateSoftware()   #gives syntax error because private method cannot be called by users\n",
    "\n",
    "redcar.setMaxSpeed(80)   #changes to private variables are allowed this way\n",
    "redcar.drive()\n",
    "print(redcar.__maxspeed)   #this funny variable is still 10"
   ]
  },
  {
   "cell_type": "code",
   "execution_count": 85,
   "metadata": {},
   "outputs": [
    {
     "name": "stdout",
     "output_type": "stream",
     "text": [
      "Hello\n",
      "Hello Guido\n"
     ]
    }
   ],
   "source": [
    "#Method Overloading\n",
    "#Method is not limited to fixed input. If name is not passed, method will still run\n",
    "class Human:\n",
    "    \n",
    "    def sayHello(self, name=None):  #name is optional\n",
    "        if name is not None:\n",
    "            print('Hello ' + name)\n",
    "        else:\n",
    "            print('Hello')\n",
    "\n",
    "obj = Human()\n",
    "obj.sayHello()\n",
    "obj.sayHello('Guido')"
   ]
  },
  {
   "cell_type": "code",
   "execution_count": 93,
   "metadata": {},
   "outputs": [
    {
     "name": "stdout",
     "output_type": "stream",
     "text": [
      "Groarrr\n",
      "Woof woof!\n"
     ]
    }
   ],
   "source": [
    "#Polymorphism!\n",
    "class Bear(object):\n",
    "    def sound(self):\n",
    "        print('Groarrr')\n",
    "        \n",
    "class Dog(object):\n",
    "    def sound(self):\n",
    "        print('Woof woof!')\n",
    "        \n",
    "# Lost here... animalType.sound is not declared anywhere?!\n",
    "def makeSound(animalType):\n",
    "    animalType.sound()\n",
    "\n",
    "bearObj = Bear()\n",
    "dogObj = Dog()\n",
    "\n",
    "makeSound(bearObj)\n",
    "makeSound(dogObj)"
   ]
  },
  {
   "cell_type": "code",
   "execution_count": 98,
   "metadata": {},
   "outputs": [
    {
     "name": "stdout",
     "output_type": "stream",
     "text": [
      "Document1: Show pdf contents!\n",
      "Document2: Show pdf contents!\n",
      "Document3: Show word contents!\n"
     ]
    }
   ],
   "source": [
    "#Polymorphism and Abstract method\n",
    "class Document:\n",
    "    def __init__(self, name):    \n",
    "        self.name = name\n",
    " \n",
    "#To make sure this method is re-coded in sub classes\n",
    "    def show(self):             \n",
    "        raise NotImplementedError(\"Subclass must implement abstract method\")\n",
    " \n",
    "class Pdf(Document):\n",
    "    def show(self):\n",
    "        return 'Show pdf contents!'\n",
    " \n",
    "class Word(Document):\n",
    "    def show(self):\n",
    "        return 'Show word contents!'\n",
    " \n",
    "documents = [Pdf('Document1'),\n",
    "             Pdf('Document2'),\n",
    "             Word('Document3')]\n",
    " \n",
    "for document in documents:\n",
    "    print(document.name + ': ' + document.show())"
   ]
  },
  {
   "cell_type": "code",
   "execution_count": null,
   "metadata": {},
   "outputs": [],
   "source": []
  }
 ],
 "metadata": {
  "kernelspec": {
   "display_name": "Python 3",
   "language": "python",
   "name": "python3"
  },
  "language_info": {
   "codemirror_mode": {
    "name": "ipython",
    "version": 3
   },
   "file_extension": ".py",
   "mimetype": "text/x-python",
   "name": "python",
   "nbconvert_exporter": "python",
   "pygments_lexer": "ipython3",
   "version": "3.6.4"
  }
 },
 "nbformat": 4,
 "nbformat_minor": 2
}
