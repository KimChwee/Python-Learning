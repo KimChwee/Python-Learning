{
 "cells": [
  {
   "cell_type": "markdown",
   "metadata": {},
   "source": [
    "# <font color=Blue>Basics of Python"
   ]
  },
  {
   "cell_type": "code",
   "execution_count": 1,
   "metadata": {},
   "outputs": [
    {
     "name": "stdout",
     "output_type": "stream",
     "text": [
      "Enter name: Landis\n",
      "Landis\n"
     ]
    }
   ],
   "source": [
    "#User entry input box\n",
    "name = input(\"Enter name: \")\n",
    "print(name)"
   ]
  },
  {
   "cell_type": "code",
   "execution_count": 4,
   "metadata": {},
   "outputs": [
    {
     "name": "stdout",
     "output_type": "stream",
     "text": [
      "strings is not equal\n"
     ]
    }
   ],
   "source": [
    "# logical operator: != #not equal; == #equal; >; < \n",
    "sentence = \"The cat is brown\"\n",
    "q = \"cat\"\n",
    " \n",
    "if q != sentence:\n",
    "    print('strings is not equal')"
   ]
  },
  {
   "cell_type": "code",
   "execution_count": 7,
   "metadata": {},
   "outputs": [
    {
     "name": "stdout",
     "output_type": "stream",
     "text": [
      "Hello Python\n",
      "H\n",
      "e\n",
      "He\n",
      "ll\n",
      "Python\n",
      "Hello Pyth\n"
     ]
    }
   ],
   "source": [
    "#Slicing of array\n",
    "s = \"Hello Python\"\n",
    "print(s)      # prints whole string\n",
    "print(s[0])   # prints \"H\"\n",
    "print(s[1]) # prints \"e\"\n",
    "print(s[0:2]) # prints item 0 to before 2\n",
    "print(s[2:4]) # prints item 2 to before 4\n",
    "print(s[6:])  # prints item 6 till last item\n",
    "print(s[:-2])  # prints begining till before 2nd last item"
   ]
  },
  {
   "cell_type": "code",
   "execution_count": 14,
   "metadata": {},
   "outputs": [
    {
     "name": "stdout",
     "output_type": "stream",
     "text": [
      "<class 'float'>\n",
      "<class 'int'> <class 'str'>\n",
      "2.1\n",
      "2 2.1\n"
     ]
    }
   ],
   "source": [
    "#Variable types: int, str, bool, float\n",
    "x = 2.1\n",
    "print(type(x))    #check the type of variable x\n",
    "y = int(x)        #convert value of x to integer and store inside y\n",
    "z = str(x)\n",
    "print(type(y), type(z))\n",
    "print(x)\n",
    "print(y, z)"
   ]
  },
  {
   "cell_type": "code",
   "execution_count": 16,
   "metadata": {},
   "outputs": [
    {
     "name": "stdout",
     "output_type": "stream",
     "text": [
      "['Drake', 'Derp', 'Derek', 'Dominique']\n",
      "Drake\n",
      "Derp\n",
      "['Derek', 'Derp', 'Dominique', 'Drake']\n",
      "['Drake', 'Dominique', 'Derp', 'Derek']\n"
     ]
    }
   ],
   "source": [
    "#Array, Slicing and sort\n",
    "l = [ \"Drake\", \"Derp\", \"Derek\", \"Dominique\" ]\n",
    " \n",
    "print(l)     # prints all elements\n",
    "print(l[0])  # print first element\n",
    "print(l[1])  # prints second element\n",
    "l.sort()    # sorts the list in alphabetical order\n",
    "print(l)     # prints all elements\n",
    "l.reverse() # reverse order.\n",
    "print(l)     # prints all elements"
   ]
  },
  {
   "cell_type": "code",
   "execution_count": 17,
   "metadata": {},
   "outputs": [
    {
     "name": "stdout",
     "output_type": "stream",
     "text": [
      "x smaller than 10\n"
     ]
    }
   ],
   "source": [
    "# syntax of IF ELSE\n",
    "x = 3\n",
    "if x < 10:\n",
    "   print(\"x smaller than 10\")\n",
    "else:\n",
    "   print(\"x is bigger than 10 or equal\")"
   ]
  },
  {
   "cell_type": "code",
   "execution_count": 19,
   "metadata": {},
   "outputs": [
    {
     "name": "stdout",
     "output_type": "stream",
     "text": [
      "You called f(x,y) with the value x = 3 and y = 2\n",
      "x * y = 6\n"
     ]
    }
   ],
   "source": [
    "#declaring a function\n",
    "def f(x,y):\n",
    "    print('You called f(x,y) with the value x = ' + str(x) + ' and y = ' + str(y))\n",
    "    print('x * y = ' + str(x*y))\n",
    " \n",
    "f(3,2)"
   ]
  },
  {
   "cell_type": "code",
   "execution_count": 10,
   "metadata": {},
   "outputs": [
    {
     "data": {
      "text/plain": [
       "0"
      ]
     },
     "execution_count": 10,
     "metadata": {},
     "output_type": "execute_result"
    }
   ],
   "source": [
    "import numpy as np\n",
    "#x = np.zeros((6,5))   #generate array of 6 by 5 with value 0\n",
    "x = [[1,2,3,4,5,6],\n",
    "     [6,7,8,9,0,1],\n",
    "     [1,2,3,4,5,6],\n",
    "     [6,7,8,9,0,1],\n",
    "     [1,2,3,4,5,6]]\n",
    "\n",
    "x[1][4]   #access row 2, col 5"
   ]
  },
  {
   "cell_type": "code",
   "execution_count": 20,
   "metadata": {},
   "outputs": [
    {
     "name": "stdout",
     "output_type": "stream",
     "text": [
      "9\n"
     ]
    }
   ],
   "source": [
    "# declaring Global variable\n",
    "z = 10\n",
    " \n",
    "def afunction():\n",
    "    global z\n",
    "    z = 9\n",
    " \n",
    "afunction()\n",
    "print(z)"
   ]
  },
  {
   "cell_type": "code",
   "execution_count": 22,
   "metadata": {},
   "outputs": [
    {
     "name": "stdout",
     "output_type": "stream",
     "text": [
      "Abby\n",
      "Brenda\n",
      "Cindy\n",
      "Diddy\n",
      "1\n",
      "2\n",
      "3\n",
      "4\n",
      "5\n",
      "6\n",
      "7\n",
      "8\n",
      "9\n"
     ]
    }
   ],
   "source": [
    "#for loop syntax\n",
    "items = [ \"Abby\",\"Brenda\",\"Cindy\",\"Diddy\" ]\n",
    " \n",
    "for item in items:\n",
    "    print(item)\n",
    "\n",
    "for i in range(1,10):\n",
    "    print(i)"
   ]
  },
  {
   "cell_type": "code",
   "execution_count": 24,
   "metadata": {},
   "outputs": [
    {
     "name": "stdout",
     "output_type": "stream",
     "text": [
      "Guess the number: 6\n",
      "False guess\n",
      "Guess the number: 5\n",
      "You guessed the correct number\n"
     ]
    }
   ],
   "source": [
    "#while loop\n",
    "correctNumber = 5\n",
    "guess = 0\n",
    " \n",
    "while guess != correctNumber:\n",
    "    guess = int(input(\"Guess the number: \"))\n",
    " \n",
    "    if guess != correctNumber:\n",
    "        print('False guess')\n",
    " \n",
    "print('You guessed the correct number')"
   ]
  },
  {
   "cell_type": "code",
   "execution_count": 25,
   "metadata": {},
   "outputs": [
    {
     "name": "stdout",
     "output_type": "stream",
     "text": [
      "(1,1)\n",
      "(1,2)\n",
      "(2,1)\n",
      "(2,2)\n"
     ]
    }
   ],
   "source": [
    "#Nested for loop\n",
    "for x in range(1,3):    #for x = 1 to 2 (before 3)\n",
    "    for y in range(1,3):\n",
    "        print(\"(\" + str(x) + \",\" + str(y) + \")\")"
   ]
  },
  {
   "cell_type": "code",
   "execution_count": 27,
   "metadata": {},
   "outputs": [
    {
     "name": "stdout",
     "output_type": "stream",
     "text": [
      "[0, 1, 2, 3, 4]\n",
      "[0, 2, 4, 6, 8]\n"
     ]
    }
   ],
   "source": [
    "print(list(range(5)))     #list array from 0 to before 5\n",
    "print(list(range(0,10,2)))   #list arrary from 0 to before 10; interval of 2"
   ]
  },
  {
   "cell_type": "code",
   "execution_count": 6,
   "metadata": {},
   "outputs": [
    {
     "name": "stdout",
     "output_type": "stream",
     "text": [
      "Diana\n",
      "Canada\n",
      "('Diana', 32, 'New York')\n",
      "['Diana', 32, 'New York']\n",
      "['Diana', 33, 'New York']\n"
     ]
    },
    {
     "ename": "TypeError",
     "evalue": "'tuple' object does not support item assignment",
     "output_type": "error",
     "traceback": [
      "\u001b[1;31m---------------------------------------------------------------------------\u001b[0m",
      "\u001b[1;31mTypeError\u001b[0m                                 Traceback (most recent call last)",
      "\u001b[1;32m<ipython-input-6-a6788ebdc84f>\u001b[0m in \u001b[0;36m<module>\u001b[1;34m()\u001b[0m\n\u001b[0;32m     14\u001b[0m \u001b[0mp1\u001b[0m\u001b[1;33m[\u001b[0m\u001b[1;36m1\u001b[0m\u001b[1;33m]\u001b[0m \u001b[1;33m+=\u001b[0m \u001b[1;36m1\u001b[0m\u001b[1;33m\u001b[0m\u001b[0m\n\u001b[0;32m     15\u001b[0m \u001b[0mprint\u001b[0m\u001b[1;33m(\u001b[0m\u001b[0mp1\u001b[0m\u001b[1;33m)\u001b[0m\u001b[1;33m\u001b[0m\u001b[0m\n\u001b[1;32m---> 16\u001b[1;33m \u001b[0mpersonInfo\u001b[0m\u001b[1;33m[\u001b[0m\u001b[1;36m1\u001b[0m\u001b[1;33m]\u001b[0m \u001b[1;33m+=\u001b[0m \u001b[1;36m1\u001b[0m\u001b[1;33m\u001b[0m\u001b[0m\n\u001b[0m",
      "\u001b[1;31mTypeError\u001b[0m: 'tuple' object does not support item assignment"
     ]
    }
   ],
   "source": [
    "#Tuple is defined using () as opposed to []; once created, the values cannot be changed\n",
    "tuple = (3,)   #comma is required even for 1 item\n",
    "personInfo = (\"Diana\", 32, \"New York\")\n",
    "p1 = [\"Diana\", 32, \"New York\"]\n",
    "print(personInfo[0])\n",
    "name,age,country,career = ('Diana',32,'Canada','CompSci')   #assign multiple variables to tuple items\n",
    "print(country)\n",
    "\n",
    "x = (3,4,5,6)            #You can still add items to tuple\n",
    "x = x + (1,2,3)\n",
    "#print(x)\n",
    "print(personInfo)\n",
    "print(p1)\n",
    "p1[1] += 1\n",
    "print(p1)\n",
    "personInfo[1] += 1"
   ]
  },
  {
   "cell_type": "code",
   "execution_count": 32,
   "metadata": {},
   "outputs": [
    {
     "name": "stdout",
     "output_type": "stream",
     "text": [
      "Diana-trialCanada-trialCompSci\n"
     ]
    }
   ],
   "source": [
    "# oin add suffix to items of array except the last item (weird!)\n",
    "person = (\"Diana\",\"Canada\",\"CompSci\" )\n",
    "s = \"-trial\".join(person)\n",
    "print(s)"
   ]
  },
  {
   "cell_type": "code",
   "execution_count": 4,
   "metadata": {},
   "outputs": [
    {
     "name": "stdout",
     "output_type": "stream",
     "text": [
      "John Doe 70000\n",
      "6\n"
     ]
    }
   ],
   "source": [
    "# All variable types have their own methods\n",
    "# For String, one of the method is split\n",
    "emp_str = 'John-Doe-70000'\n",
    "first, last, pay = emp_str.split('-')\n",
    "print(first, last, pay)\n",
    "\n",
    "import datetime\n",
    "my_date = datetime.date(2016, 7, 10)\n",
    "print(my_date.weekday())    #weekday is a std mtd of date type"
   ]
  },
  {
   "cell_type": "code",
   "execution_count": 33,
   "metadata": {},
   "outputs": [
    {
     "name": "stdout",
     "output_type": "stream",
     "text": [
      "Bonjour\n",
      "Non\n"
     ]
    }
   ],
   "source": [
    "#dictionaries\n",
    "words = {}\n",
    "words[\"Hello\"] = \"Bonjour\"\n",
    "words[\"Yes\"] = \"Oui\"\n",
    "words[\"No\"] = \"Non\"\n",
    "words[\"Bye\"] = \"Au Revoir\"\n",
    " \n",
    "print(words[\"Hello\"])\n",
    "print(words[\"No\"])"
   ]
  },
  {
   "cell_type": "code",
   "execution_count": 35,
   "metadata": {},
   "outputs": [
    {
     "name": "stdout",
     "output_type": "stream",
     "text": [
      "{'Hello': 'Bonjour', 'Yes': 'Oui', 'No': 'Non', 'Bye': 'Au Revoir'}\n",
      "{'Hello': 'Bonjour', 'No': 'Non', 'Bye': 'Au Revoir'}\n",
      "{'Hello': 'Bonjour', 'No': 'Non', 'Bye': 'Au Revoir', 'Yes': 'Oui!'}\n"
     ]
    }
   ],
   "source": [
    "#dictionaries manipulation\n",
    "words = {}\n",
    "words[\"Hello\"] = \"Bonjour\"\n",
    "words[\"Yes\"] = \"Oui\"\n",
    "words[\"No\"] = \"Non\"\n",
    "words[\"Bye\"] = \"Au Revoir\"\n",
    " \n",
    "print(words)           # print key-pairs.\n",
    "del words[\"Yes\"]       # delete a key-pair.\n",
    "print(words)           # print key-pairs.\n",
    "words[\"Yes\"] = \"Oui!\"  # add new key-pair.\n",
    "print(words)           # print key-pairs."
   ]
  },
  {
   "cell_type": "markdown",
   "metadata": {},
   "source": [
    "### <font color=green> << Data Type conversion functions >>\n",
    "int(x)\tConverts x to an integer <br>\n",
    "long(x)\tConverts x to a long integer <br>\n",
    "float(x)\tConverts x to a floating point number <br>\n",
    "str(x)\tConverts x to an string. x can be of the type float. integer or long <br>\n",
    "hex(x)\tConverts x integer to a hexadecimal string <br>\n",
    "chr(x)\tConverts x integer to a character <br>\n",
    "ord(x)\tConverts character x to an integer"
   ]
  },
  {
   "cell_type": "code",
   "execution_count": 1,
   "metadata": {},
   "outputs": [
    {
     "name": "stdout",
     "output_type": "stream",
     "text": [
      "33\n"
     ]
    }
   ],
   "source": [
    "# recursive functions\n",
    "# sum is called with the function sum !\n",
    "def sum(list):\n",
    "   if len(list) == 1:\n",
    "        return list[0]\n",
    "   else:\n",
    "        return list[0] + sum(list[1:])\n",
    " \n",
    "print(sum([5,7,3,8,10]))"
   ]
  },
  {
   "cell_type": "code",
   "execution_count": 8,
   "metadata": {},
   "outputs": [
    {
     "name": "stdout",
     "output_type": "stream",
     "text": [
      "41493596034378540855568670930866121709511191949318099176894676576975585651235319500860007652178003420075184635383617118495750871114045907794553402161068339611621037904199177522062663390179682805164719697495968842457728766097103003726111095340241127118833157738815328438929737613021106312930374401485378725446079610290429491049793888120762511625132917004641668962117590203575175488980653577868915285093782469994674699190832093511068363824287063522268544339213775150488588104036818809099292912497141900508938994404715351473154531587441509960174267875087460367974117072368747277143988920683691618503608198459718093784453523958505377611086511162363145920886108557450874513945305436213711898150847192094426374203275029996333784944014775671414680824207499914714878359669720638954670589960178569480263388767112871068004950827400717124819476386401369193544354120312786601434792549959143530120653103406625503231020738351502195103148673612338739395096551462159349015789949944072311004426924838140141455487872738045856023561583204317945953055830693351246890721246151468485308724031267967089113548982733475375756899365176396424781733462510879015743437398920492267098317033932107176343983352444576040476565400414414699479984354554597799386702839428513413188913165695310848513525094006147774047007331406541794428004436691903685469270857271701648011512057452448607968773784803660653009109815639091294110633715621540903800135058671624262333902434166628716521228590274568833504897926869369792878376894841436573866436955075473964882256222183380014600761196859217603234808467455216330411738004331144225926243690558782914907973885758784585739828695390302383837265882427654306437517757897215045071361801730051628424476294227485755627828763498767195281368913583918824499284741591683130334032199946752082914885764345863832313545205075955912062067273296951386122994658607527317884452449865348164169238844889061495850934373442889814884427321817131272533891534506581143823381205875379808605080889761753882896252933633750454549168600267229591225528854584482686655324313011353754812409561237686078007700707939541848907149467377854407528307872988103912945121929864793703451257436445581459757140822705986325165352906584571123585270211933452981105568398809884094980346185078025273038736784042169427237980464304250045030806637032760016341921442805708802430850567892108646977455139539119838636167190300278146380136932482332771595180596193069504237836082620570887209297929797429404576877338319877444685544294800321741056689423710545028870419611915072739000031642014474213323293871618029555614004602867400422885389854650328028428515122296028795741801621823236098320971441047012533067314896153236788734984553949604397050352347766211395914519270422122231426998692087463520980686224354813376194395131942868113486531562228173214976481705381846155326596187530296478601160872263640443922257601926494610916885151013143945574398303192557154162151442469122370519149097861849436150963109933639594561796593396851958605338631176324147066842257192394742531726479559749993283247279807896470753054014194090200609712674753186365525403212757757853930697530056595208207457499471898144453772248207888443335118545601568853708182892895218300139654376947286418776665762815389737340159410543681435437346134244692067070082782423645557450882556670157242752810317141640631410681384330924027281318960884813040665226169552825637183862464944295688859393846726723694199475571320546018263425731029115353532728808182773021596787088437293412117084511580629967697266601663635276959969021502122104954259567278593185516268447100374434620422003535391203738393095420695021486207390653190910821344334251497896284236198571674773848126097443055036250866354720730971298084697196537722779893160200560725058007512407494448163392214398118492748281978655178478547749198714138485042290383954090570842038137277135667703565041081780520695032136233521692740531015340921761834078817735674646749071616600653230438902639786065509005309872435445689315601329942407112295015453771521051942445512795364971214872222193729289159833001742397977592530501318837883494884232222507318816399438935627817102875432588794558857742780390717166381257903798149148445526885871629931014510733215554773264576035916184298708323237568837917135073006026738292294687081030751946020376438138677107333779312582257356435534577162804030480925785909747233413932904072239860005448269296110393640127539539899397420021925268928622564959279136369546983247314494094297494213208716963662812963846191378114609210701033012119934264941666449130310898493535366401831282683112506578386425906537197010907276429330534751297336716929415047870949241778121534979499449732358445130210029720359993576507730563696950539990891252004810120090569633144368179194247963563389102486250773367249399801723451627048850149438343735826440053481474957421328873648479589553843836378275601433377798816126854462406494134416119108952653326761627660221130879211665924379496534838030236064294981985541014311566601739518539426008673198564586684635442730180022292607589767192198367529528365158715521887698317999005853121518691037776676883654291247419826099434535671529412823837612115555686210454583810355154404953718470726363218532775486501811002621331228429860926112159573066023932077476742800909462674322138805290643067711276964013735906251051050623568241317651533030775358975134565147424167401517470720839101869989993279364910892687924739705814152855543965954222603919059265825637344676406359525838966981511983959886603683753042017990328185945569412550519066302854869533377682984600031808093822130038102214387057461181304251961916405970456035183121708151658647356556540532928411748628957082856792300053525846377061280591452035546389932127875906349627837975871352588618213252263577038396202737385324908353680497990085701522483303439525197344653342994652565236096742834550523739733902374261808871799283722285366293439240895762913154442106573609205481842139365893867715542842477275100166734357743093638948444564764377184073874379471007867151070449554657626281566137550730763768080600031844296233977808233311359787577136983012817571625671683287281511937336685789437109097748581222868126824122317272681184975207863453107495331708260153159440253645365524453587952034745213429248916644504804355352281977721981971869054884176896398782704782066126921472548618247859626434279190274503452994769367997217285165465591799471789067885687278574470084289723778234763080740919512966238346427839653865017324665850192144091694630371265581197700774682562035198318782913591013997817303635173764706714383992810291224460848320518983248348855131025539721583184931653670732273172995431750775475634748127320956655431851879586978172491721700865768098908327830838240437737974455342525688712898855513180967012497859454290609627370590659970784172738420721605576789060565167694565490120388165775861939230924362983389549857279874523398090499858467484850399509109398834210424693113617875978611803096108774362764990414655167545507613665725914993376114340243762910290384135888531312591132544849225896007184851169390193985434649415483782338302531368775990005443722332901462568184095998830522521585328599833990336595418932696680163265899358234663247080324020429791357425755498549372896192091650794671997121439832581553945835125648010889886887056882711222628734035772418424803231173027338442220604015609242079569493204943809402465562530303328824165302038006041288444384884189129393985971765670211501611340121169355535864984802941563238279447576315042685734269863116562800932164578165410411899078396210758605145091526528422433647230880469088426412525126584729134059195171754291152622002229756986927959124620964363057052133099216422258437651889193630329851223282950806126200573565554213183555838289318138795940962303792777230344423432341561603558590502324475274502630869831414125396371754413611897269158650716722308083435295578401087236027347001118786146233185439431057058483770474806035004556885020602730222256397630738939985024978155182679916994164145540329909813190506654358156657691529068908186204138444091456355291242064901717436430473455191375922914953282988151808740076733486997695322871450791584448703980405737673555777873593937891577147956023340708456392314170118392555234618119775915673385955919265270624063734277760215846511035368057963320714896942663358570375305829676608224208465464558556667889222627619990263961792637457851652540918756608543859661221944248720424960000000000000000000000000000000000000000000000000000000000000000000000000000000000000000000000000000000000000000000000000000000000000000000000000000000000000000000000000000000000000000000000000000000000000000000000000000000000000000000000000000000000000000000000000000000000000000000000000000000000000000000000000000000000000000000000000000000000000000000000000000000000000000000000000000000000000000000000000000000000000000000000000000000000000000000000000000000000000000000000000000000000000000000000000000000000000000000000000000000000000000000000000000000000000000000000000000000000000000000000000000000000000000000000000000000000000000000000000000000000000000000000000000000000000000000000000000000000000000000000000000000000000000000000000000\n"
     ]
    }
   ],
   "source": [
    "# recursive functions can be memory intensive. Used with care!\n",
    "# below code will fail without the sys.setrecursionlimit\n",
    "import sys\n",
    "\n",
    "#increase the limit so that below code can run. Still, used with care!\n",
    "sys.setrecursionlimit(5000)   \n",
    " \n",
    "def factorial(n):\n",
    "    if n == 1:\n",
    "        return 1\n",
    "    else:\n",
    "        return n * factorial(n-1)\n",
    " \n",
    "print(factorial(3000))"
   ]
  },
  {
   "cell_type": "code",
   "execution_count": 9,
   "metadata": {},
   "outputs": [
    {
     "name": "stderr",
     "output_type": "stream",
     "text": [
      "WARNING:root:This is a warning!\n"
     ]
    }
   ],
   "source": [
    "# Logging\n",
    "import logging\n",
    " \n",
    "# print a log message to the console.\n",
    "logging.warning('This is a warning!')"
   ]
  },
  {
   "cell_type": "code",
   "execution_count": 10,
   "metadata": {},
   "outputs": [
    {
     "name": "stderr",
     "output_type": "stream",
     "text": [
      "WARNING:root:An example message.\n",
      "WARNING:root:Another message\n"
     ]
    }
   ],
   "source": [
    "#no error but i wonder where this file 'program.log' goes.\n",
    "#Not found inside my python tutorial directory.....\n",
    "logging.basicConfig(filename='program.log',level=logging.DEBUG)\n",
    "logging.warning('An example message.')\n",
    "logging.warning('Another message')"
   ]
  },
  {
   "cell_type": "code",
   "execution_count": 11,
   "metadata": {},
   "outputs": [
    {
     "name": "stderr",
     "output_type": "stream",
     "text": [
      "WARNING:root:An example logging message.\n",
      "WARNING:root:Another log message\n"
     ]
    }
   ],
   "source": [
    "logging.basicConfig(format='%(asctime)s %(message)s', level=logging.DEBUG)\n",
    "logging.info('Logging app started')\n",
    "logging.warning('An example logging message.')\n",
    "logging.warning('Another log message')"
   ]
  },
  {
   "cell_type": "code",
   "execution_count": 9,
   "metadata": {},
   "outputs": [
    {
     "name": "stdout",
     "output_type": "stream",
     "text": [
      "Rice:  10 Roe:  27\n"
     ]
    }
   ],
   "source": [
    "# Using Dictionary in Python\n",
    "foodOnHand = {'shrimp' : 5,\n",
    "              'rice' : 10,\n",
    "              'roe' : 17}\n",
    "\n",
    "foodOnHand['roe'] += 10\n",
    "print(\"Rice: \", foodOnHand['rice'], \"Roe: \", foodOnHand['roe'])"
   ]
  },
  {
   "cell_type": "code",
   "execution_count": 8,
   "metadata": {},
   "outputs": [
    {
     "name": "stdout",
     "output_type": "stream",
     "text": [
      "Coordinates of Rice:  (119, 701)\n",
      "X-Coordinates of Salmon:  54\n"
     ]
    }
   ],
   "source": [
    "class Cord:\n",
    "    f_shrimp = (54,700)\n",
    "    f_rice = (119, 701)\n",
    "    f_nori = (63, 745)\n",
    "    f_roe = (111, 749)\n",
    "    f_salmon = (54, 815)\n",
    "    f_unagi = (111, 812)\n",
    "\n",
    "print(\"Coordinates of Rice: \", Cord.f_rice)\n",
    "print(\"X-Coordinates of Salmon: \", Cord.f_salmon[0])"
   ]
  },
  {
   "cell_type": "code",
   "execution_count": 14,
   "metadata": {},
   "outputs": [
    {
     "name": "stdout",
     "output_type": "stream",
     "text": [
      "[['blue', (1, 2, 3)], ['green', (2, 2, 2)]]\n"
     ]
    }
   ],
   "source": [
    "SlimeColor = [[\"blue\", (1,2,3)],\n",
    "              [\"green\", (2,2,2)]]\n",
    "\n",
    "print(SlimeColor)"
   ]
  },
  {
   "cell_type": "code",
   "execution_count": 18,
   "metadata": {},
   "outputs": [
    {
     "name": "stdout",
     "output_type": "stream",
     "text": [
      "blue\n",
      "(1, 2, 3) 1\n",
      "green\n",
      "(2, 2, 2) 2\n"
     ]
    }
   ],
   "source": [
    "for eachColor in SlimeColor:\n",
    "    print(eachColor[0])\n",
    "    print(eachColor[1], eachColor[1][0])"
   ]
  },
  {
   "cell_type": "code",
   "execution_count": 25,
   "metadata": {},
   "outputs": [
    {
     "name": "stdout",
     "output_type": "stream",
     "text": [
      "Moving Left\n",
      "Moving Right\n"
     ]
    }
   ],
   "source": [
    "# The equivalent of Switch Case in Python\n",
    "def MoveLeft():\n",
    "    print(\"Moving Left\")\n",
    "def MoveRight():\n",
    "    print(\"Moving Right\")\n",
    "\n",
    "Action = {\"left\" : MoveLeft,\n",
    "          \"right\" : MoveRight}\n",
    "\n",
    "Action[\"left\"]()\n",
    "x = \"right\"\n",
    "Action[x]()"
   ]
  },
  {
   "cell_type": "code",
   "execution_count": 1,
   "metadata": {},
   "outputs": [
    {
     "name": "stdout",
     "output_type": "stream",
     "text": [
      "[]\n"
     ]
    }
   ],
   "source": [
    "slime = []\n",
    "print(slime)\n",
    "slime.extend([1])\n",
    "print(slime)"
   ]
  },
  {
   "cell_type": "code",
   "execution_count": 1,
   "metadata": {},
   "outputs": [
    {
     "name": "stdout",
     "output_type": "stream",
     "text": [
      "['1']\n"
     ]
    }
   ],
   "source": [
    "slime = []\n",
    "slime = slime + list(\"1\")\n",
    "print(slime)"
   ]
  },
  {
   "cell_type": "code",
   "execution_count": 7,
   "metadata": {},
   "outputs": [
    {
     "ename": "TypeError",
     "evalue": "'tuple' object is not callable",
     "output_type": "error",
     "traceback": [
      "\u001b[1;31m---------------------------------------------------------------------------\u001b[0m",
      "\u001b[1;31mTypeError\u001b[0m                                 Traceback (most recent call last)",
      "\u001b[1;32m<ipython-input-7-7c15f99dd83e>\u001b[0m in \u001b[0;36m<module>\u001b[1;34m()\u001b[0m\n\u001b[0;32m      1\u001b[0m slimeCoord = [(135,370),\n\u001b[0;32m      2\u001b[0m               \u001b[1;33m(\u001b[0m\u001b[1;36m115\u001b[0m\u001b[1;33m,\u001b[0m\u001b[1;36m345\u001b[0m\u001b[1;33m)\u001b[0m\u001b[1;33m\u001b[0m\u001b[0m\n\u001b[1;32m----> 3\u001b[1;33m               \u001b[1;33m(\u001b[0m\u001b[1;36m120\u001b[0m\u001b[1;33m,\u001b[0m\u001b[1;36m305\u001b[0m\u001b[1;33m)\u001b[0m\u001b[1;33m,\u001b[0m\u001b[1;33m\u001b[0m\u001b[0m\n\u001b[0m\u001b[0;32m      4\u001b[0m               \u001b[1;33m(\u001b[0m\u001b[1;36m120\u001b[0m\u001b[1;33m,\u001b[0m\u001b[1;36m275\u001b[0m\u001b[1;33m)\u001b[0m\u001b[1;33m,\u001b[0m\u001b[1;33m\u001b[0m\u001b[0m\n\u001b[0;32m      5\u001b[0m               \u001b[1;33m(\u001b[0m\u001b[1;36m120\u001b[0m\u001b[1;33m,\u001b[0m\u001b[1;36m250\u001b[0m\u001b[1;33m)\u001b[0m\u001b[1;33m,\u001b[0m\u001b[1;33m\u001b[0m\u001b[0m\n",
      "\u001b[1;31mTypeError\u001b[0m: 'tuple' object is not callable"
     ]
    }
   ],
   "source": [
    "slimeCoord = [(135,370),\n",
    "              (115,345)\n",
    "              (120,305),\n",
    "              (120,275),\n",
    "              (120,250),\n",
    "              (120,220),\n",
    "              (315,200),\n",
    "              (95,185)]\n",
    "slimeCoord[0]"
   ]
  },
  {
   "cell_type": "code",
   "execution_count": 13,
   "metadata": {},
   "outputs": [],
   "source": [
    "# Learning Pandas\n",
    "import pandas as pd\n",
    "import numpy as np"
   ]
  },
  {
   "cell_type": "code",
   "execution_count": 14,
   "metadata": {},
   "outputs": [
    {
     "data": {
      "text/plain": [
       "DatetimeIndex(['2013-01-01', '2013-01-02', '2013-01-03', '2013-01-04',\n",
       "               '2013-01-05', '2013-01-06'],\n",
       "              dtype='datetime64[ns]', freq='D')"
      ]
     },
     "execution_count": 14,
     "metadata": {},
     "output_type": "execute_result"
    }
   ],
   "source": [
    "dates = pd.date_range('20130101',periods=6)\n",
    "dates"
   ]
  },
  {
   "cell_type": "code",
   "execution_count": 22,
   "metadata": {},
   "outputs": [
    {
     "data": {
      "text/html": [
       "<div>\n",
       "<style scoped>\n",
       "    .dataframe tbody tr th:only-of-type {\n",
       "        vertical-align: middle;\n",
       "    }\n",
       "\n",
       "    .dataframe tbody tr th {\n",
       "        vertical-align: top;\n",
       "    }\n",
       "\n",
       "    .dataframe thead th {\n",
       "        text-align: right;\n",
       "    }\n",
       "</style>\n",
       "<table border=\"1\" class=\"dataframe\">\n",
       "  <thead>\n",
       "    <tr style=\"text-align: right;\">\n",
       "      <th></th>\n",
       "      <th>0</th>\n",
       "      <th>1</th>\n",
       "      <th>2</th>\n",
       "      <th>3</th>\n",
       "      <th>4</th>\n",
       "      <th>5</th>\n",
       "    </tr>\n",
       "  </thead>\n",
       "  <tbody>\n",
       "    <tr>\n",
       "      <th>0</th>\n",
       "      <td>0.075428</td>\n",
       "      <td>1.309850</td>\n",
       "      <td>-0.438184</td>\n",
       "      <td>-0.819620</td>\n",
       "      <td>0.500444</td>\n",
       "      <td>0.800379</td>\n",
       "    </tr>\n",
       "    <tr>\n",
       "      <th>1</th>\n",
       "      <td>1.322381</td>\n",
       "      <td>-0.266457</td>\n",
       "      <td>0.709660</td>\n",
       "      <td>1.239894</td>\n",
       "      <td>1.533862</td>\n",
       "      <td>-0.738602</td>\n",
       "    </tr>\n",
       "    <tr>\n",
       "      <th>2</th>\n",
       "      <td>0.503141</td>\n",
       "      <td>-0.333485</td>\n",
       "      <td>0.172821</td>\n",
       "      <td>-1.271549</td>\n",
       "      <td>-0.763925</td>\n",
       "      <td>0.223308</td>\n",
       "    </tr>\n",
       "    <tr>\n",
       "      <th>3</th>\n",
       "      <td>-0.693577</td>\n",
       "      <td>1.449574</td>\n",
       "      <td>0.538313</td>\n",
       "      <td>0.040620</td>\n",
       "      <td>0.397826</td>\n",
       "      <td>0.448818</td>\n",
       "    </tr>\n",
       "    <tr>\n",
       "      <th>4</th>\n",
       "      <td>-1.224179</td>\n",
       "      <td>-1.666877</td>\n",
       "      <td>-1.166800</td>\n",
       "      <td>0.363406</td>\n",
       "      <td>-0.427825</td>\n",
       "      <td>1.253827</td>\n",
       "    </tr>\n",
       "  </tbody>\n",
       "</table>\n",
       "</div>"
      ],
      "text/plain": [
       "          0         1         2         3         4         5\n",
       "0  0.075428  1.309850 -0.438184 -0.819620  0.500444  0.800379\n",
       "1  1.322381 -0.266457  0.709660  1.239894  1.533862 -0.738602\n",
       "2  0.503141 -0.333485  0.172821 -1.271549 -0.763925  0.223308\n",
       "3 -0.693577  1.449574  0.538313  0.040620  0.397826  0.448818\n",
       "4 -1.224179 -1.666877 -1.166800  0.363406 -0.427825  1.253827"
      ]
     },
     "execution_count": 22,
     "metadata": {},
     "output_type": "execute_result"
    }
   ],
   "source": [
    "df = pd.DataFrame(np.random.randn(5,6))   #define a 6 x 5 matrix\n",
    "df"
   ]
  },
  {
   "cell_type": "code",
   "execution_count": 19,
   "metadata": {},
   "outputs": [
    {
     "data": {
      "text/plain": [
       "0   -0.590380\n",
       "1   -0.374469\n",
       "2   -0.366091\n",
       "3    0.004539\n",
       "4    1.031216\n",
       "Name: 0, dtype: float64"
      ]
     },
     "execution_count": 19,
     "metadata": {},
     "output_type": "execute_result"
    }
   ],
   "source": [
    "df[0]"
   ]
  },
  {
   "cell_type": "code",
   "execution_count": 20,
   "metadata": {},
   "outputs": [
    {
     "data": {
      "text/plain": [
       "-0.3744693417250049"
      ]
     },
     "execution_count": 20,
     "metadata": {},
     "output_type": "execute_result"
    }
   ],
   "source": [
    "df[0][1]   #Column 0, Row 1"
   ]
  },
  {
   "cell_type": "code",
   "execution_count": 25,
   "metadata": {},
   "outputs": [
    {
     "data": {
      "text/plain": [
       "[[[2, 2, 2], [2, 2, 2], [2, 2, 2], [2, 2, 2]],\n",
       " [[2, 2, 2], [2, 2, 2], [2, 2, 2], [2, 2, 2]],\n",
       " [[2, 2, 2], [2, 2, 2], [2, 2, 2], [2, 2, 2]],\n",
       " [[2, 2, 2], [2, 2, 2], [2, 2, 2], [2, 2, 2]],\n",
       " [[2, 2, 2], [2, 2, 2], [2, 2, 2], [2, 2, 2]]]"
      ]
     },
     "execution_count": 25,
     "metadata": {},
     "output_type": "execute_result"
    }
   ],
   "source": [
    "x = [[[2]*3]*4]*5     #Create a 3x4x5 array with values 2\n",
    "x"
   ]
  },
  {
   "cell_type": "code",
   "execution_count": null,
   "metadata": {},
   "outputs": [],
   "source": [
    "x = [[[1]*5]*4]*5"
   ]
  },
  {
   "cell_type": "code",
   "execution_count": 7,
   "metadata": {},
   "outputs": [
    {
     "ename": "AssertionError",
     "evalue": "not 1",
     "output_type": "error",
     "traceback": [
      "\u001b[1;31m---------------------------------------------------------------------------\u001b[0m",
      "\u001b[1;31mAssertionError\u001b[0m                            Traceback (most recent call last)",
      "\u001b[1;32m<ipython-input-7-633d770b8a0a>\u001b[0m in \u001b[0;36m<module>\u001b[1;34m()\u001b[0m\n\u001b[0;32m      1\u001b[0m \u001b[1;31m# assert is a form of validation where if not true, end program & return error message\u001b[0m\u001b[1;33m\u001b[0m\u001b[1;33m\u001b[0m\u001b[0m\n\u001b[1;32m----> 2\u001b[1;33m \u001b[1;32massert\u001b[0m \u001b[1;36m1\u001b[0m \u001b[1;33m==\u001b[0m \u001b[1;36m2\u001b[0m\u001b[1;33m,\u001b[0m \u001b[1;34m\"not 1\"\u001b[0m\u001b[1;33m\u001b[0m\u001b[0m\n\u001b[0m",
      "\u001b[1;31mAssertionError\u001b[0m: not 1"
     ]
    }
   ],
   "source": [
    "# assert is a form of validation where if not true, end program & return error message\n",
    "assert 1 == 2, \"not 1\""
   ]
  },
  {
   "cell_type": "code",
   "execution_count": 9,
   "metadata": {},
   "outputs": [
    {
     "name": "stdout",
     "output_type": "stream",
     "text": [
      "1 apple\n",
      "2 banana\n",
      "3 grapes\n",
      "4 pear\n",
      "[(1, 'apple'), (2, 'banana'), (3, 'grapes'), (4, 'pear')]\n"
     ]
    }
   ],
   "source": [
    "# Enumerate : loop thru the array, store counter in C, value in value\n",
    "my_list = ['apple', 'banana', 'grapes', 'pear']\n",
    "for c, value in enumerate(my_list, 1):\n",
    "    print(c, value)\n",
    "\n",
    "my_list = ['apple', 'banana', 'grapes', 'pear']\n",
    "counter_list = list(enumerate(my_list, 1))\n",
    "print(counter_list)"
   ]
  },
  {
   "cell_type": "code",
   "execution_count": 5,
   "metadata": {},
   "outputs": [
    {
     "name": "stdout",
     "output_type": "stream",
     "text": [
      "[[1, 2, 3], ['a', 'b', 'c'], [4, 5, 6]]\n"
     ]
    }
   ],
   "source": [
    "abc = [[1,2,3],['a','b','c']]\n",
    "abc = abc + [[4,5,6]]\n",
    "print(abc)"
   ]
  },
  {
   "cell_type": "code",
   "execution_count": 19,
   "metadata": {},
   "outputs": [
    {
     "data": {
      "text/plain": [
       "-1"
      ]
     },
     "execution_count": 19,
     "metadata": {},
     "output_type": "execute_result"
    }
   ],
   "source": []
  },
  {
   "cell_type": "code",
   "execution_count": 20,
   "metadata": {},
   "outputs": [],
   "source": []
  },
  {
   "cell_type": "code",
   "execution_count": null,
   "metadata": {},
   "outputs": [],
   "source": []
  }
 ],
 "metadata": {
  "kernelspec": {
   "display_name": "Python 3",
   "language": "python",
   "name": "python3"
  },
  "language_info": {
   "codemirror_mode": {
    "name": "ipython",
    "version": 3
   },
   "file_extension": ".py",
   "mimetype": "text/x-python",
   "name": "python",
   "nbconvert_exporter": "python",
   "pygments_lexer": "ipython3",
   "version": "3.6.4"
  }
 },
 "nbformat": 4,
 "nbformat_minor": 2
}
