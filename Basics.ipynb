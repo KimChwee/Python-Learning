{
 "cells": [
  {
   "cell_type": "markdown",
   "metadata": {},
   "source": [
    "# <font color=Blue>Basics of Python"
   ]
  },
  {
   "cell_type": "code",
   "execution_count": 1,
   "metadata": {},
   "outputs": [
    {
     "name": "stdout",
     "output_type": "stream",
     "text": [
      "Enter name: Landis\n",
      "Landis\n"
     ]
    }
   ],
   "source": [
    "#User entry input box\n",
    "name = input(\"Enter name: \")\n",
    "print(name)"
   ]
  },
  {
   "cell_type": "code",
   "execution_count": 4,
   "metadata": {},
   "outputs": [
    {
     "name": "stdout",
     "output_type": "stream",
     "text": [
      "strings is not equal\n"
     ]
    }
   ],
   "source": [
    "# logical operator: != #not equal; == #equal; >; < \n",
    "sentence = \"The cat is brown\"\n",
    "q = \"cat\"\n",
    " \n",
    "if q != sentence:\n",
    "    print('strings is not equal')"
   ]
  },
  {
   "cell_type": "code",
   "execution_count": 7,
   "metadata": {},
   "outputs": [
    {
     "name": "stdout",
     "output_type": "stream",
     "text": [
      "Hello Python\n",
      "H\n",
      "e\n",
      "He\n",
      "ll\n",
      "Python\n",
      "Hello Pyth\n"
     ]
    }
   ],
   "source": [
    "#Slicing of array\n",
    "s = \"Hello Python\"\n",
    "print(s)      # prints whole string\n",
    "print(s[0])   # prints \"H\"\n",
    "print(s[1]) # prints \"e\"\n",
    "print(s[0:2]) # prints item 0 to before 2\n",
    "print(s[2:4]) # prints item 2 to before 4\n",
    "print(s[6:])  # prints item 6 till last item\n",
    "print(s[:-2])  # prints begining till before 2nd last item"
   ]
  },
  {
   "cell_type": "code",
   "execution_count": 14,
   "metadata": {},
   "outputs": [
    {
     "name": "stdout",
     "output_type": "stream",
     "text": [
      "<class 'float'>\n",
      "<class 'int'> <class 'str'>\n",
      "2.1\n",
      "2 2.1\n"
     ]
    }
   ],
   "source": [
    "#Variable types: int, str, bool, float\n",
    "x = 2.1\n",
    "print(type(x))    #check the type of variable x\n",
    "y = int(x)        #convert value of x to integer and store inside y\n",
    "z = str(x)\n",
    "print(type(y), type(z))\n",
    "print(x)\n",
    "print(y, z)"
   ]
  },
  {
   "cell_type": "code",
   "execution_count": 16,
   "metadata": {},
   "outputs": [
    {
     "name": "stdout",
     "output_type": "stream",
     "text": [
      "['Drake', 'Derp', 'Derek', 'Dominique']\n",
      "Drake\n",
      "Derp\n",
      "['Derek', 'Derp', 'Dominique', 'Drake']\n",
      "['Drake', 'Dominique', 'Derp', 'Derek']\n"
     ]
    }
   ],
   "source": [
    "#Array, Slicing and sort\n",
    "l = [ \"Drake\", \"Derp\", \"Derek\", \"Dominique\" ]\n",
    " \n",
    "print(l)     # prints all elements\n",
    "print(l[0])  # print first element\n",
    "print(l[1])  # prints second element\n",
    "l.sort()    # sorts the list in alphabetical order\n",
    "print(l)     # prints all elements\n",
    "l.reverse() # reverse order.\n",
    "print(l)     # prints all elements"
   ]
  },
  {
   "cell_type": "code",
   "execution_count": 17,
   "metadata": {},
   "outputs": [
    {
     "name": "stdout",
     "output_type": "stream",
     "text": [
      "x smaller than 10\n"
     ]
    }
   ],
   "source": [
    "# syntax of IF ELSE\n",
    "x = 3\n",
    "if x < 10:\n",
    "   print(\"x smaller than 10\")\n",
    "else:\n",
    "   print(\"x is bigger than 10 or equal\")"
   ]
  },
  {
   "cell_type": "code",
   "execution_count": 19,
   "metadata": {},
   "outputs": [
    {
     "name": "stdout",
     "output_type": "stream",
     "text": [
      "You called f(x,y) with the value x = 3 and y = 2\n",
      "x * y = 6\n"
     ]
    }
   ],
   "source": [
    "#declaring a function\n",
    "def f(x,y):\n",
    "    print('You called f(x,y) with the value x = ' + str(x) + ' and y = ' + str(y))\n",
    "    print('x * y = ' + str(x*y))\n",
    " \n",
    "f(3,2)"
   ]
  },
  {
   "cell_type": "code",
   "execution_count": 20,
   "metadata": {},
   "outputs": [
    {
     "name": "stdout",
     "output_type": "stream",
     "text": [
      "9\n"
     ]
    }
   ],
   "source": [
    "# declaring Global variable\n",
    "z = 10\n",
    " \n",
    "def afunction():\n",
    "    global z\n",
    "    z = 9\n",
    " \n",
    "afunction()\n",
    "print(z)"
   ]
  },
  {
   "cell_type": "code",
   "execution_count": 22,
   "metadata": {},
   "outputs": [
    {
     "name": "stdout",
     "output_type": "stream",
     "text": [
      "Abby\n",
      "Brenda\n",
      "Cindy\n",
      "Diddy\n",
      "1\n",
      "2\n",
      "3\n",
      "4\n",
      "5\n",
      "6\n",
      "7\n",
      "8\n",
      "9\n"
     ]
    }
   ],
   "source": [
    "#for loop syntax\n",
    "items = [ \"Abby\",\"Brenda\",\"Cindy\",\"Diddy\" ]\n",
    " \n",
    "for item in items:\n",
    "    print(item)\n",
    "\n",
    "for i in range(1,10):\n",
    "    print(i)"
   ]
  },
  {
   "cell_type": "code",
   "execution_count": 24,
   "metadata": {},
   "outputs": [
    {
     "name": "stdout",
     "output_type": "stream",
     "text": [
      "Guess the number: 6\n",
      "False guess\n",
      "Guess the number: 5\n",
      "You guessed the correct number\n"
     ]
    }
   ],
   "source": [
    "#while loop\n",
    "correctNumber = 5\n",
    "guess = 0\n",
    " \n",
    "while guess != correctNumber:\n",
    "    guess = int(input(\"Guess the number: \"))\n",
    " \n",
    "    if guess != correctNumber:\n",
    "        print('False guess')\n",
    " \n",
    "print('You guessed the correct number')"
   ]
  },
  {
   "cell_type": "code",
   "execution_count": 25,
   "metadata": {},
   "outputs": [
    {
     "name": "stdout",
     "output_type": "stream",
     "text": [
      "(1,1)\n",
      "(1,2)\n",
      "(2,1)\n",
      "(2,2)\n"
     ]
    }
   ],
   "source": [
    "#Nested for loop\n",
    "for x in range(1,3):    #for x = 1 to 2 (before 3)\n",
    "    for y in range(1,3):\n",
    "        print(\"(\" + str(x) + \",\" + str(y) + \")\")"
   ]
  },
  {
   "cell_type": "code",
   "execution_count": 27,
   "metadata": {},
   "outputs": [
    {
     "name": "stdout",
     "output_type": "stream",
     "text": [
      "[0, 1, 2, 3, 4]\n",
      "[0, 2, 4, 6, 8]\n"
     ]
    }
   ],
   "source": [
    "print(list(range(5)))     #list array from 0 to before 5\n",
    "print(list(range(0,10,2)))   #list arrary from 0 to before 10; interval of 2"
   ]
  },
  {
   "cell_type": "code",
   "execution_count": 30,
   "metadata": {},
   "outputs": [
    {
     "name": "stdout",
     "output_type": "stream",
     "text": [
      "Diana\n",
      "Canada\n",
      "(3, 4, 5, 6, 1, 2, 3)\n"
     ]
    }
   ],
   "source": [
    "#Tuple is defined using () as opposed to []; once created, the values cannot be changed\n",
    "tuple = (3,)   #comma is required even for 1 item\n",
    "personInfo = (\"Diana\", 32, \"New York\")\n",
    "print(personInfo[0])\n",
    "name,age,country,career = ('Diana',32,'Canada','CompSci')   #assign multiple variables to tuple items\n",
    "print(country)\n",
    "\n",
    "x = (3,4,5,6)            #You can still add items to tuple\n",
    "x = x + (1,2,3)\n",
    "print(x)"
   ]
  },
  {
   "cell_type": "code",
   "execution_count": 32,
   "metadata": {},
   "outputs": [
    {
     "name": "stdout",
     "output_type": "stream",
     "text": [
      "Diana-trialCanada-trialCompSci\n"
     ]
    }
   ],
   "source": [
    "#join add suffix to items of array except the last item (weird!)\n",
    "person = (\"Diana\",\"Canada\",\"CompSci\" )\n",
    "s = \"-trial\".join(person)\n",
    "print(s)"
   ]
  },
  {
   "cell_type": "code",
   "execution_count": 33,
   "metadata": {},
   "outputs": [
    {
     "name": "stdout",
     "output_type": "stream",
     "text": [
      "Bonjour\n",
      "Non\n"
     ]
    }
   ],
   "source": [
    "#dictionaries\n",
    "words = {}\n",
    "words[\"Hello\"] = \"Bonjour\"\n",
    "words[\"Yes\"] = \"Oui\"\n",
    "words[\"No\"] = \"Non\"\n",
    "words[\"Bye\"] = \"Au Revoir\"\n",
    " \n",
    "print(words[\"Hello\"])\n",
    "print(words[\"No\"])"
   ]
  },
  {
   "cell_type": "code",
   "execution_count": 35,
   "metadata": {},
   "outputs": [
    {
     "name": "stdout",
     "output_type": "stream",
     "text": [
      "{'Hello': 'Bonjour', 'Yes': 'Oui', 'No': 'Non', 'Bye': 'Au Revoir'}\n",
      "{'Hello': 'Bonjour', 'No': 'Non', 'Bye': 'Au Revoir'}\n",
      "{'Hello': 'Bonjour', 'No': 'Non', 'Bye': 'Au Revoir', 'Yes': 'Oui!'}\n"
     ]
    }
   ],
   "source": [
    "#dictionaries manipulation\n",
    "words = {}\n",
    "words[\"Hello\"] = \"Bonjour\"\n",
    "words[\"Yes\"] = \"Oui\"\n",
    "words[\"No\"] = \"Non\"\n",
    "words[\"Bye\"] = \"Au Revoir\"\n",
    " \n",
    "print(words)           # print key-pairs.\n",
    "del words[\"Yes\"]       # delete a key-pair.\n",
    "print(words)           # print key-pairs.\n",
    "words[\"Yes\"] = \"Oui!\"  # add new key-pair.\n",
    "print(words)           # print key-pairs."
   ]
  },
  {
   "cell_type": "markdown",
   "metadata": {},
   "source": [
    "<< Data Type conversion functions >>\n",
    "int(x)\tConverts x to an integer\n",
    "long(x)\tConverts x to a long integer\n",
    "float(x)\tConverts x to a floating point number\n",
    "str(x)\tConverts x to an string. x can be of the type float. integer or long.\n",
    "hex(x)\tConverts x integer to a hexadecimal string\n",
    "chr(x)\tConverts x integer to a character\n",
    "ord(x)\tConverts character x to an integer"
   ]
  },
  {
   "cell_type": "code",
   "execution_count": null,
   "metadata": {},
   "outputs": [],
   "source": []
  }
 ],
 "metadata": {
  "kernelspec": {
   "display_name": "Python 3",
   "language": "python",
   "name": "python3"
  },
  "language_info": {
   "codemirror_mode": {
    "name": "ipython",
    "version": 3
   },
   "file_extension": ".py",
   "mimetype": "text/x-python",
   "name": "python",
   "nbconvert_exporter": "python",
   "pygments_lexer": "ipython3",
   "version": "3.6.4"
  }
 },
 "nbformat": 4,
 "nbformat_minor": 2
}
