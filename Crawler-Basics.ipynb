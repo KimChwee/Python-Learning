{
 "cells": [
  {
   "cell_type": "code",
   "execution_count": 62,
   "metadata": {},
   "outputs": [
    {
     "name": "stdout",
     "output_type": "stream",
     "text": [
      "Name                 Rating  Reviewed Date\n",
      "Ryan G               3       Reviewed yesterday \n",
      "Mohammed L           3       Reviewed yesterday \n",
      "Luke Leeroy L        1       Reviewed yesterday \n",
      "Rohit G              5       Reviewed yesterday \n",
      "Jainam M             4       Reviewed 2 days ago \n",
      "CSMuralidhar         1       Reviewed 2 days ago \n",
      "Chima0291            4       Reviewed 2 days ago \n",
      "Rob W                4       Reviewed 2 days ago \n",
      "Chris Y              3       Reviewed 3 days ago \n",
      "Hale T               4       Reviewed 3 days ago \n"
     ]
    }
   ],
   "source": [
    "import requests\n",
    "from bs4 import BeautifulSoup\n",
    "\n",
    "url = \"https://www.tripadvisor.com.sg/Attraction_Review-g294264-d2439664-Reviews-Universal_Studios_Singapore-Sentosa_Island.html\"\n",
    "html_page = requests.get(url)\n",
    "soup_page = BeautifulSoup(html_page.content, \"html.parser\")\n",
    "containers = soup_page.findAll('div', {'class':'review-container'})\n",
    "\n",
    "print('{:20s} {:7s} {:10s}'.format(\"Name\", \"Rating\", \"Reviewed Date\"))\n",
    "for item in containers:\n",
    "    uname = str(item.find('div', {'class':'username mo'}).text)\n",
    "    tContent = str(item)\n",
    "    pos = tContent.find(\"ui_bubble_rating bubble_\")\n",
    "    rating = tContent[pos+24:pos+25]\n",
    "    review = str(item.find('span', {'class':'ratingDate relativeDate'}).text)\n",
    "    print('{:20s} {:7s} {:10s}'.format(uname, rating, review))\n"
   ]
  },
  {
   "cell_type": "code",
   "execution_count": 54,
   "metadata": {},
   "outputs": [
    {
     "name": "stdout",
     "output_type": "stream",
     "text": [
      "abc         20\n"
     ]
    }
   ],
   "source": [
    "a = \"abc\"\n",
    "b = 20\n",
    "\n",
    "print('{:10s} {:3d}'.format(a, b))"
   ]
  },
  {
   "cell_type": "code",
   "execution_count": 49,
   "metadata": {},
   "outputs": [
    {
     "name": "stdout",
     "output_type": "stream",
     "text": [
      "xxx        123    98.00\n"
     ]
    }
   ],
   "source": [
    "print('{:10s} {:3d}  {:7.2f}'.format('xxx', 123, 98))"
   ]
  },
  {
   "cell_type": "code",
   "execution_count": null,
   "metadata": {},
   "outputs": [],
   "source": []
  }
 ],
 "metadata": {
  "kernelspec": {
   "display_name": "Python 3",
   "language": "python",
   "name": "python3"
  },
  "language_info": {
   "codemirror_mode": {
    "name": "ipython",
    "version": 3
   },
   "file_extension": ".py",
   "mimetype": "text/x-python",
   "name": "python",
   "nbconvert_exporter": "python",
   "pygments_lexer": "ipython3",
   "version": "3.6.5"
  }
 },
 "nbformat": 4,
 "nbformat_minor": 2
}
