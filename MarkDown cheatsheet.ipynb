{
 "cells": [
  {
   "cell_type": "markdown",
   "metadata": {},
   "source": [
    "# <font color=blue>Cheatsheet for Markdown\n",
    "  # title     '#<space>title\n",
    " ## major headings    '###<space>subheadings \n",
    " ### subheadings    '###<space>subheadings \n",
    " #### 4th level subheadings   '####<space> 4th level subheadings"
   ]
  },
  {
   "cell_type": "markdown",
   "metadata": {},
   "source": [
    "Bold: __string__ or **string**  'double underscore or double asterisk before and after the word"
   ]
  },
  {
   "cell_type": "markdown",
   "metadata": {},
   "source": [
    "Italic: _string_ or *string*    'underscore or asterisk before and after the word"
   ]
  },
  {
   "cell_type": "markdown",
   "metadata": {},
   "source": [
    "Use this code: $ mathematical symbols $"
   ]
  },
  {
   "cell_type": "markdown",
   "metadata": {},
   "source": [
    "'abc.txt'          #display in monospace font ' your text '"
   ]
  },
  {
   "cell_type": "markdown",
   "metadata": {},
   "source": [
    "Line Break : '< br >' <br> Line Break"
   ]
  },
  {
   "cell_type": "markdown",
   "metadata": {},
   "source": [
    "< font color=blue|red|green|pink|yellow>Text</font >\n",
    "<font color=blue>Blue</font>  <font color=red>Red</font> <font color=green>Green</font> <font color=pink>Pink</font> <font color=Yellow>Yellow</font>"
   ]
  },
  {
   "cell_type": "markdown",
   "metadata": {},
   "source": [
    "-  Bullet is created with a '-' follow by 2 space"
   ]
  },
  {
   "cell_type": "markdown",
   "metadata": {},
   "source": [
    "    -  Sub Bullet is created by a tab, then dash follow by 2 space"
   ]
  },
  {
   "cell_type": "markdown",
   "metadata": {},
   "source": [
    "1. Auto Numbering bullet when you have number 1 + dot + space "
   ]
  },
  {
   "cell_type": "markdown",
   "metadata": {},
   "source": [
    "<div class=\"alert alert-block alert-info\"> '< div class=\"alert alert-block alert-info\" > to highlight the row as blue"
   ]
  },
  {
   "cell_type": "markdown",
   "metadata": {},
   "source": [
    "<div class=\"alert alert-block alert-success\">  '< div class=\"alert alert-block alert-success\" > to highlight as green"
   ]
  },
  {
   "cell_type": "markdown",
   "metadata": {},
   "source": [
    "<div class=\"alert alert-block alert-danger\"> '< div class=\"alert alert-block alert-danger\" >' Highlight red"
   ]
  },
  {
   "cell_type": "markdown",
   "metadata": {},
   "source": [
    "'< img src=\"url.gif\" alt=\"Alt text that describes the graphic\" title=\"Title text\" / > #Add a picture"
   ]
  },
  {
   "cell_type": "markdown",
   "metadata": {},
   "source": [
    "Geometric shapes: https://www.w3schools.com/charsets/ref_utf_geometric.asp"
   ]
  },
  {
   "cell_type": "markdown",
   "metadata": {},
   "source": [
    "3xasterisk to draw horizontal lines\n",
    "***"
   ]
  },
  {
   "cell_type": "markdown",
   "metadata": {},
   "source": [
    "__[Link text to a website](https://www.w3schools.com/charsets/ref_utf_geometric.asp)__"
   ]
  },
  {
   "cell_type": "markdown",
   "metadata": {},
   "source": [
    "Link to a section on top \"Don't understand yet\""
   ]
  },
  {
   "cell_type": "code",
   "execution_count": null,
   "metadata": {},
   "outputs": [],
   "source": []
  }
 ],
 "metadata": {
  "kernelspec": {
   "display_name": "Python 3",
   "language": "python",
   "name": "python3"
  },
  "language_info": {
   "codemirror_mode": {
    "name": "ipython",
    "version": 3
   },
   "file_extension": ".py",
   "mimetype": "text/x-python",
   "name": "python",
   "nbconvert_exporter": "python",
   "pygments_lexer": "ipython3",
   "version": "3.6.4"
  }
 },
 "nbformat": 4,
 "nbformat_minor": 2
}
