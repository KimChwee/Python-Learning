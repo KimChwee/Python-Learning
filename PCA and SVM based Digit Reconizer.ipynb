{
  "cells": [
    {
      "metadata": {
        "_uuid": "8eb8f46b675b400cb26b8fc2af1a3adfa236c737",
        "_cell_guid": "31a86241-d703-aa27-5561-cfc4412037c7"
      },
      "cell_type": "markdown",
      "source": "Imports"
    },
    {
      "metadata": {
        "_uuid": "bdff510ffa64bd328f8beaf059ed19373298e837",
        "_cell_guid": "6ea437f0-121f-bec4-04b1-ff197b47f0f1",
        "trusted": false,
        "collapsed": true
      },
      "cell_type": "code",
      "source": "import pandas as pd\nimport numpy as np\nfrom sklearn import svm\nfrom sklearn.model_selection import train_test_split\nfrom sklearn.decomposition import PCA\nimport time",
      "execution_count": null,
      "outputs": []
    },
    {
      "metadata": {
        "_uuid": "74ec4676c2ccbb005c67deb2982015677eecfca0",
        "_cell_guid": "a45f4872-14e3-08d3-c2e0-aefb460a9308",
        "trusted": false,
        "collapsed": true
      },
      "cell_type": "code",
      "source": "train = pd.read_csv('../input/train.csv')\ntest = pd.read_csv('../input/test.csv')\n\ntrain_image = train.ix[:,1:]\ntrain_label = train.ix[:,0]",
      "execution_count": null,
      "outputs": []
    },
    {
      "metadata": {
        "_uuid": "4e4b291f048d394137fbb22df4b48539956a33bc",
        "_cell_guid": "fb5321e7-8ba7-7cf7-7107-c609281c806f",
        "trusted": false,
        "collapsed": true
      },
      "cell_type": "code",
      "source": "train_image = train_image.values / 255.0\ntest_image = test.values / 255.0",
      "execution_count": null,
      "outputs": []
    },
    {
      "metadata": {
        "_uuid": "042ebcbc90f4490a72c127f718afe383fad0145d",
        "_cell_guid": "58be8ae1-9ea8-3e8e-cf59-eb4435ffe482",
        "trusted": false,
        "collapsed": true
      },
      "cell_type": "code",
      "source": "train_label = train_label.values",
      "execution_count": null,
      "outputs": []
    },
    {
      "metadata": {
        "_uuid": "5c46cb2d3bde1a2b78bbbf1138196928173ccc61",
        "_cell_guid": "1635ff9b-7643-9c81-de1c-ef34b46b3c7e",
        "trusted": false,
        "collapsed": true
      },
      "cell_type": "code",
      "source": "print('the shape of train_image: {}, train_label: {}'.format(train_image.shape, train_label.shape))\nprint('the shape of test_image: {}'.format(test_image.shape))",
      "execution_count": null,
      "outputs": []
    },
    {
      "metadata": {
        "_uuid": "6f19c13576d613f48a813feb5c27264a81642d3c",
        "_cell_guid": "43aac723-2a0c-b66a-6299-7b22890fc40b",
        "trusted": false,
        "collapsed": true
      },
      "cell_type": "code",
      "source": "X_train, X_val, y_train, y_val = train_test_split(train_image,train_label, train_size = 0.8,random_state = 0)",
      "execution_count": null,
      "outputs": []
    },
    {
      "metadata": {
        "_uuid": "3e03fc1793226b0c451ecfdda15c93026ad9d730",
        "_cell_guid": "caea529e-5dca-8fd5-dc03-d2f6fcd0ba3f",
        "trusted": false,
        "collapsed": true
      },
      "cell_type": "code",
      "source": "print(X_train.shape)\nprint(X_val.shape)",
      "execution_count": null,
      "outputs": []
    },
    {
      "metadata": {
        "_uuid": "7b3304bf99f03917c92d80221d16fbfea9bcb6ee",
        "_cell_guid": "4cb90618-7cc1-aac5-3ba6-671ea487212d",
        "trusted": false,
        "collapsed": true
      },
      "cell_type": "code",
      "source": "def n_component_analysis(n, X_train, y_train, X_val, y_val):\n    start = time.time()\n    pca = PCA(n_components=n)\n    print(\"PCA begin with n_components: {}\".format(n));\n    pca.fit(X_train)\n   \n    X_train_pca = pca.transform(X_train)\n    X_val_pca = pca.transform(X_val)\n \n    print('SVC begin')\n    clf1 = svm.SVC()\n    clf1.fit(X_train_pca, y_train)\n   \n    accuracy = clf1.score(X_val_pca, y_val)\n    end = time.time()\n    print(\"accuracy: {}, time elaps:{}\".format(accuracy, int(end-start)))\n    return accuracy",
      "execution_count": null,
      "outputs": []
    },
    {
      "metadata": {
        "_uuid": "9d9e0d74c27f83f4d6e78cda0a77884f5d56ab83",
        "_cell_guid": "e0bf45a6-6b39-6704-a3b3-f6572435c9c8",
        "trusted": false,
        "collapsed": true
      },
      "cell_type": "code",
      "source": "n_s = np.linspace(0.70, 0.85, num=15)\naccuracy = []\nfor n in n_s:\n    tmp = n_component_analysis(n, X_train, y_train, X_val, y_val)\n    accuracy.append(tmp)",
      "execution_count": null,
      "outputs": []
    },
    {
      "metadata": {
        "_uuid": "48847e964ca660c9cf2bbaae79b30078bacf8936",
        "_cell_guid": "c842ed7d-1cef-963e-fcc2-efef62f9c7f1",
        "trusted": false,
        "collapsed": true
      },
      "cell_type": "code",
      "source": "import matplotlib.pyplot as plt\n%matplotlib inline\nplt.plot(n_s, np.array(accuracy), 'b-')",
      "execution_count": null,
      "outputs": []
    },
    {
      "metadata": {
        "_uuid": "454f8ce2135f79925e686e6815645037add402a3",
        "_cell_guid": "4b463cad-1171-e07b-a4a0-d2a52967c505",
        "trusted": false,
        "collapsed": true
      },
      "cell_type": "code",
      "source": "pca = PCA(n_components=0.75)\npca.fit(X_train)",
      "execution_count": null,
      "outputs": []
    },
    {
      "metadata": {
        "_uuid": "834776ff14352f2349da5e7a9668753aa994c6d8",
        "_cell_guid": "bfc666ac-a9b8-a33a-ee95-415421fd5384",
        "trusted": false,
        "collapsed": true
      },
      "cell_type": "code",
      "source": "pca.n_components_",
      "execution_count": null,
      "outputs": []
    },
    {
      "metadata": {
        "_uuid": "9f808e0f06c982826059875e5cd6852ab79bbca2",
        "_cell_guid": "3dd538be-8fe7-51aa-d2c0-170307787129",
        "trusted": false,
        "collapsed": true
      },
      "cell_type": "code",
      "source": "pca.explained_variance_ratio_",
      "execution_count": null,
      "outputs": []
    },
    {
      "metadata": {
        "_uuid": "a05c4655600e3c086e2cfd2eeb640c6d1a3551f6",
        "_cell_guid": "692c80a3-74c0-5fd5-7ea7-f46a6c10b614",
        "trusted": false,
        "collapsed": true
      },
      "cell_type": "code",
      "source": "X_train_pca = pca.transform(X_train)\nX_val_pca = pca.transform(X_val)",
      "execution_count": null,
      "outputs": []
    },
    {
      "metadata": {
        "_uuid": "6f3db7e8fac59890402ef00199b4192499b008bc",
        "_cell_guid": "2213c8bd-f8c7-4602-a493-079a86b6fe40",
        "trusted": false,
        "collapsed": true
      },
      "cell_type": "code",
      "source": "print(X_train_pca.shape)\nprint(X_val_pca.shape)",
      "execution_count": null,
      "outputs": []
    },
    {
      "metadata": {
        "_uuid": "3ea2381bc422b19d709afc0eb5fa82f1d4b0cfe2",
        "_cell_guid": "e8edfbf3-9408-2583-6c2a-3ef9674dc1cd",
        "trusted": false,
        "collapsed": true
      },
      "cell_type": "code",
      "source": "clf1 = svm.SVC()\nclf1.fit(X_train_pca, y_train)\nclf1.score(X_val_pca, y_val)",
      "execution_count": null,
      "outputs": []
    },
    {
      "metadata": {
        "_uuid": "e5f85d57afebc2af5a7255577910472930c10e22",
        "_cell_guid": "19be1b4e-f457-da04-f68c-c11a3c53d359",
        "trusted": false,
        "collapsed": true
      },
      "cell_type": "code",
      "source": "",
      "execution_count": null,
      "outputs": []
    }
  ],
  "metadata": {
    "kernelspec": {
      "display_name": "Python 3",
      "language": "python",
      "name": "python3"
    },
    "language_info": {
      "name": "python",
      "version": "3.6.4",
      "mimetype": "text/x-python",
      "codemirror_mode": {
        "name": "ipython",
        "version": 3
      },
      "pygments_lexer": "ipython3",
      "nbconvert_exporter": "python",
      "file_extension": ".py"
    },
    "_change_revision": 0,
    "_is_fork": false
  },
  "nbformat": 4,
  "nbformat_minor": 1
}